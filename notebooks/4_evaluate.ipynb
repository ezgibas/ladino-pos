{
 "cells": [
  {
   "cell_type": "code",
   "execution_count": 1,
   "metadata": {},
   "outputs": [],
   "source": [
    "import sys\n",
    "import os\n",
    "\n",
    "# Add the scripts folder to the Python path\n",
    "sys.path.append(os.path.abspath(\"../scripts\"))  # Adjust the path accordingly"
   ]
  },
  {
   "cell_type": "code",
   "execution_count": 2,
   "metadata": {},
   "outputs": [],
   "source": [
    "import pandas as pd\n",
    "import numpy as np\n",
    "from load_data import *\n",
    "import pickle"
   ]
  },
  {
   "cell_type": "code",
   "execution_count": 35,
   "metadata": {},
   "outputs": [],
   "source": [
    "data_file = \"../data/brown-universal.txt\"\n",
    "tags_file = \"../data/tags-universal.txt\"\n",
    "NLTK_model = \"../results/hmm_tagger-NLTK.pkl\"\n",
    "BW_model = \"../results/hmm_tagger-BW-100.pkl\""
   ]
  },
  {
   "cell_type": "markdown",
   "metadata": {},
   "source": [
    "# Viterbi Algorithm"
   ]
  },
  {
   "cell_type": "code",
   "execution_count": null,
   "metadata": {},
   "outputs": [],
   "source": []
  },
  {
   "cell_type": "markdown",
   "metadata": {},
   "source": [
    "# Make Predictions"
   ]
  },
  {
   "cell_type": "markdown",
   "metadata": {},
   "source": [
    "With NLTK Trained HMM"
   ]
  },
  {
   "cell_type": "code",
   "execution_count": 37,
   "metadata": {},
   "outputs": [],
   "source": [
    "with open(NLTK_model, 'rb') as pickle_file:\n",
    "    hmm_tagger_NLTK = pickle.load(pickle_file)"
   ]
  },
  {
   "cell_type": "code",
   "execution_count": 38,
   "metadata": {},
   "outputs": [],
   "source": [
    "# Extract model parameters\n",
    "tags_nltk = hmm_tagger_NLTK._states  # Set of all possible tags\n",
    "words = hmm_tagger_NLTK._symbols  # Set of all possible words\n",
    "\n",
    "# convert probability distributions of HMM to dictionaries\n",
    "transitions = {}\n",
    "for prev_state in hmm_tagger_NLTK._transitions:\n",
    "    transitions[prev_state] = {}\n",
    "    for next_state in tags_nltk:\n",
    "        transitions[prev_state][next_state] = hmm_tagger_NLTK._transitions[prev_state].prob(next_state)\n",
    "\n",
    "emissions = {}\n",
    "for state in tags_nltk:\n",
    "    emissions[state] = {}\n",
    "    for word in words:\n",
    "        emissions[state][word] = hmm_tagger_NLTK._outputs[state].prob(word)\n",
    "\n",
    "initial = {}\n",
    "for state in tags_nltk:\n",
    "    initial[state] = hmm_tagger_NLTK._priors.prob(state)"
   ]
  },
  {
   "cell_type": "code",
   "execution_count": 39,
   "metadata": {},
   "outputs": [],
   "source": [
    "NLTK_tagger = Predictor(tags_nltk, transitions, emissions, initial)"
   ]
  },
  {
   "cell_type": "code",
   "execution_count": 40,
   "metadata": {},
   "outputs": [
    {
     "data": {
      "text/html": [
       "<div>\n",
       "<style scoped>\n",
       "    .dataframe tbody tr th:only-of-type {\n",
       "        vertical-align: middle;\n",
       "    }\n",
       "\n",
       "    .dataframe tbody tr th {\n",
       "        vertical-align: top;\n",
       "    }\n",
       "\n",
       "    .dataframe thead th {\n",
       "        text-align: right;\n",
       "    }\n",
       "</style>\n",
       "<table border=\"1\" class=\"dataframe\">\n",
       "  <thead>\n",
       "    <tr style=\"text-align: right;\">\n",
       "      <th></th>\n",
       "      <th>NOUN</th>\n",
       "      <th>VERB</th>\n",
       "      <th>PRON</th>\n",
       "      <th>ADV</th>\n",
       "      <th>.</th>\n",
       "      <th>CONJ</th>\n",
       "      <th>ADP</th>\n",
       "      <th>DET</th>\n",
       "      <th>PRT</th>\n",
       "      <th>ADJ</th>\n",
       "      <th>X</th>\n",
       "      <th>NUM</th>\n",
       "    </tr>\n",
       "  </thead>\n",
       "  <tbody>\n",
       "    <tr>\n",
       "      <th>0</th>\n",
       "      <td>0.139433</td>\n",
       "      <td>0.045745</td>\n",
       "      <td>0.15841</td>\n",
       "      <td>0.090192</td>\n",
       "      <td>0.093088</td>\n",
       "      <td>0.052337</td>\n",
       "      <td>0.123552</td>\n",
       "      <td>0.210547</td>\n",
       "      <td>0.035058</td>\n",
       "      <td>0.034259</td>\n",
       "      <td>0.0004</td>\n",
       "      <td>0.01698</td>\n",
       "    </tr>\n",
       "  </tbody>\n",
       "</table>\n",
       "</div>"
      ],
      "text/plain": [
       "       NOUN      VERB     PRON       ADV         .      CONJ       ADP  \\\n",
       "0  0.139433  0.045745  0.15841  0.090192  0.093088  0.052337  0.123552   \n",
       "\n",
       "        DET       PRT       ADJ       X      NUM  \n",
       "0  0.210547  0.035058  0.034259  0.0004  0.01698  "
      ]
     },
     "execution_count": 40,
     "metadata": {},
     "output_type": "execute_result"
    }
   ],
   "source": [
    "initial_df = pd.DataFrame([initial], columns=tags_nltk)\n",
    "initial_df"
   ]
  },
  {
   "cell_type": "code",
   "execution_count": 41,
   "metadata": {},
   "outputs": [
    {
     "name": "stdout",
     "output_type": "stream",
     "text": [
      "0.9999999999997577\n"
     ]
    }
   ],
   "source": [
    "emissions_df = pd.DataFrame.from_dict(emissions)\n",
    "print(sum(emissions_df.iloc[:, 0]))"
   ]
  },
  {
   "cell_type": "code",
   "execution_count": 42,
   "metadata": {},
   "outputs": [
    {
     "name": "stdout",
     "output_type": "stream",
     "text": [
      "0.9999999999999999\n"
     ]
    }
   ],
   "source": [
    "transitions_df = pd.DataFrame.from_dict(transitions)\n",
    "print(sum(transitions_df.iloc[:, 0]))"
   ]
  },
  {
   "cell_type": "markdown",
   "metadata": {},
   "source": [
    "With HMM trained with own Baum-Welch implementation"
   ]
  },
  {
   "cell_type": "code",
   "execution_count": 43,
   "metadata": {},
   "outputs": [],
   "source": [
    "with open(BW_model, 'rb') as pickle_file:\n",
    "    hmm_tagger_BW = pickle.load(pickle_file)"
   ]
  },
  {
   "cell_type": "code",
   "execution_count": 44,
   "metadata": {},
   "outputs": [],
   "source": [
    "# Extract model parameters\n",
    "tags_bw = hmm_tagger_BW[\"states\"]  # Set of all possible tags\n",
    "words = hmm_tagger_BW[\"vocab\"]  # Set of all possible words\n",
    "\n",
    "# convert probability distributions of HMM to dictionaries\n",
    "transitions = {}\n",
    "transition_probs = hmm_tagger_BW[\"transition_probs\"]\n",
    "for prev_idx, prev_state in enumerate(tags_bw):\n",
    "    transitions[prev_state] = {}\n",
    "    for next_idx, next_state in enumerate(tags_bw):\n",
    "        transitions[prev_state][next_state] = transition_probs[prev_idx, next_idx]\n",
    "\n",
    "emissions = {}\n",
    "emission_probs = hmm_tagger_BW[\"emission_probs\"]\n",
    "for state_idx, state in enumerate(tags_bw):\n",
    "    emissions[state] = {}\n",
    "    for word_idx, word in enumerate(words):\n",
    "        emissions[state][word] = emission_probs[state_idx, word_idx]\n",
    "\n",
    "initial = {}\n",
    "initial_probs = hmm_tagger_BW[\"initial_probs\"]\n",
    "for state_idx, state in enumerate(tags_bw):\n",
    "    initial[state] = initial_probs[state_idx]"
   ]
  },
  {
   "cell_type": "code",
   "execution_count": 45,
   "metadata": {},
   "outputs": [],
   "source": [
    "BW_tagger = Predictor(tags_bw, transitions, emissions, initial)"
   ]
  },
  {
   "cell_type": "code",
   "execution_count": 46,
   "metadata": {},
   "outputs": [
    {
     "data": {
      "text/html": [
       "<div>\n",
       "<style scoped>\n",
       "    .dataframe tbody tr th:only-of-type {\n",
       "        vertical-align: middle;\n",
       "    }\n",
       "\n",
       "    .dataframe tbody tr th {\n",
       "        vertical-align: top;\n",
       "    }\n",
       "\n",
       "    .dataframe thead th {\n",
       "        text-align: right;\n",
       "    }\n",
       "</style>\n",
       "<table border=\"1\" class=\"dataframe\">\n",
       "  <thead>\n",
       "    <tr style=\"text-align: right;\">\n",
       "      <th></th>\n",
       "      <th>.</th>\n",
       "      <th>ADJ</th>\n",
       "      <th>ADP</th>\n",
       "      <th>ADV</th>\n",
       "      <th>CONJ</th>\n",
       "      <th>DET</th>\n",
       "      <th>NOUN</th>\n",
       "      <th>NUM</th>\n",
       "      <th>PRON</th>\n",
       "      <th>PRT</th>\n",
       "      <th>VERB</th>\n",
       "      <th>X</th>\n",
       "    </tr>\n",
       "  </thead>\n",
       "  <tbody>\n",
       "    <tr>\n",
       "      <th>0</th>\n",
       "      <td>0.137684</td>\n",
       "      <td>9.255465e-60</td>\n",
       "      <td>1.601347e-38</td>\n",
       "      <td>1.459903e-17</td>\n",
       "      <td>1.571919e-57</td>\n",
       "      <td>7.741267e-54</td>\n",
       "      <td>0.150151</td>\n",
       "      <td>3.555115e-37</td>\n",
       "      <td>1.121271e-59</td>\n",
       "      <td>6.785456e-57</td>\n",
       "      <td>0.712165</td>\n",
       "      <td>3.520637e-37</td>\n",
       "    </tr>\n",
       "  </tbody>\n",
       "</table>\n",
       "</div>"
      ],
      "text/plain": [
       "          .           ADJ           ADP           ADV          CONJ  \\\n",
       "0  0.137684  9.255465e-60  1.601347e-38  1.459903e-17  1.571919e-57   \n",
       "\n",
       "            DET      NOUN           NUM          PRON           PRT      VERB  \\\n",
       "0  7.741267e-54  0.150151  3.555115e-37  1.121271e-59  6.785456e-57  0.712165   \n",
       "\n",
       "              X  \n",
       "0  3.520637e-37  "
      ]
     },
     "execution_count": 46,
     "metadata": {},
     "output_type": "execute_result"
    }
   ],
   "source": [
    "initial_df = pd.DataFrame([initial], columns=tags_bw)\n",
    "initial_df"
   ]
  },
  {
   "cell_type": "code",
   "execution_count": 47,
   "metadata": {},
   "outputs": [
    {
     "name": "stdout",
     "output_type": "stream",
     "text": [
      "0.9999819002651236\n"
     ]
    }
   ],
   "source": [
    "emissions_df = pd.DataFrame.from_dict(emissions)\n",
    "print(sum(emissions_df.iloc[:, 0]))"
   ]
  },
  {
   "cell_type": "code",
   "execution_count": 48,
   "metadata": {},
   "outputs": [
    {
     "name": "stdout",
     "output_type": "stream",
     "text": [
      "1.0000000000000002\n"
     ]
    }
   ],
   "source": [
    "transitions_df = pd.DataFrame.from_dict(transitions)\n",
    "print(sum(transitions_df.iloc[:, 0]))"
   ]
  },
  {
   "cell_type": "markdown",
   "metadata": {},
   "source": [
    "# Evaluate"
   ]
  },
  {
   "cell_type": "markdown",
   "metadata": {},
   "source": [
    "Data for evaluation"
   ]
  },
  {
   "cell_type": "code",
   "execution_count": 49,
   "metadata": {},
   "outputs": [],
   "source": [
    "train, test = load_brown_data(data_file, split=0.8)\n",
    "\n",
    "test_sample = test # can split test to test on a smaller sample\n",
    "test_sample_sequences= [[token.get_word() for token in sentence] for sentence in test_sample]"
   ]
  },
  {
   "cell_type": "markdown",
   "metadata": {},
   "source": [
    "Run prediction algorithm"
   ]
  },
  {
   "cell_type": "code",
   "execution_count": 50,
   "metadata": {},
   "outputs": [],
   "source": [
    "targets = [[token.get_pos() for token in sentence] for sentence in test_sample]"
   ]
  },
  {
   "cell_type": "code",
   "execution_count": 51,
   "metadata": {},
   "outputs": [],
   "source": [
    "# predictions_nltk = [NLTK_tagger.viterbi(sequence) for sequence in test_sample_sequences]"
   ]
  },
  {
   "cell_type": "code",
   "execution_count": 52,
   "metadata": {},
   "outputs": [],
   "source": [
    "predictions_bw = [BW_tagger.viterbi(sequence) for sequence in test_sample_sequences]"
   ]
  },
  {
   "cell_type": "markdown",
   "metadata": {},
   "source": [
    "## Accuracy"
   ]
  },
  {
   "cell_type": "code",
   "execution_count": 53,
   "metadata": {},
   "outputs": [],
   "source": [
    "def compute_accuracy(actuals, targets):\n",
    "    \"\"\"Compute accuracy of guesses comparing to target data.\n",
    "    actual: list of guesses from the model ex. [['VERB', 'NOUN'], ['DET']]\n",
    "    target: list values from the test/validation set\n",
    "    \"\"\"\n",
    "    if len(actuals) != len(targets):\n",
    "        return -1 # the number of actual values should match number of target values\n",
    "    correct_count = 0\n",
    "    total_tags = 0\n",
    "    for actual_tags, target_tags in zip(actuals, targets):\n",
    "        total_tags += len(actual_tags)\n",
    "        if len(actual_tags) != len(target_tags):\n",
    "            return -1 # the number of actual values should match number of target values\n",
    "        for actual_value, target_value in zip(actual_tags, target_tags):\n",
    "            if actual_value == target_value:\n",
    "                correct_count += 1\n",
    "    \n",
    "    return correct_count/total_tags"
   ]
  },
  {
   "cell_type": "markdown",
   "metadata": {},
   "source": [
    "Evaluate NLTK Trained model"
   ]
  },
  {
   "cell_type": "code",
   "execution_count": 54,
   "metadata": {},
   "outputs": [],
   "source": [
    "# print(compute_accuracy(predictions_nltk, targets))"
   ]
  },
  {
   "cell_type": "markdown",
   "metadata": {},
   "source": [
    "Evaluate HMM trained with own Baum-Welch algorithm"
   ]
  },
  {
   "cell_type": "code",
   "execution_count": 55,
   "metadata": {},
   "outputs": [
    {
     "name": "stdout",
     "output_type": "stream",
     "text": [
      "0.17012123413233718\n"
     ]
    }
   ],
   "source": [
    "print(compute_accuracy(predictions_bw, targets))"
   ]
  },
  {
   "cell_type": "markdown",
   "metadata": {},
   "source": [
    "## Confusion Matrix"
   ]
  },
  {
   "cell_type": "code",
   "execution_count": 56,
   "metadata": {},
   "outputs": [],
   "source": [
    "import matplotlib.pyplot as plt\n",
    "import seaborn as sns\n",
    "from sklearn.metrics import confusion_matrix\n",
    "\n",
    "def create_hmm_confusion_matrix(true_states, predicted_states, title=\"HMM States Confusion Matrix\", \n",
    "                               state_names=None, normalize=True):\n",
    "    \"\"\"\n",
    "    Create and visualize a confusion matrix for HMM state predictions.\n",
    "    \n",
    "    Parameters:\n",
    "    -----------\n",
    "    true_states : list or array\n",
    "        The true hidden state sequences from your labeled test data\n",
    "    predicted_states : list or array\n",
    "        The Viterbi-decoded state sequences from your model\n",
    "    title : str\n",
    "        Title for the confusion matrix plot\n",
    "    state_names : list, optional\n",
    "        Names of the hidden states (if they have semantic meaning)\n",
    "    normalize : bool\n",
    "        Whether to normalize the confusion matrix by row\n",
    "    \n",
    "    Returns:\n",
    "    --------\n",
    "    cm : numpy.ndarray\n",
    "        The confusion matrix\n",
    "    \"\"\"\n",
    "    # Flatten sequences if they're nested\n",
    "    if isinstance(true_states[0], (list, np.ndarray)):\n",
    "        true_flat = np.concatenate(true_states)\n",
    "        pred_flat = np.concatenate(predicted_states)\n",
    "    else:\n",
    "        true_flat = np.array(true_states)\n",
    "        pred_flat = np.array(predicted_states)\n",
    "    \n",
    "    # Get unique states\n",
    "    unique_states = sorted(set(np.concatenate([np.unique(true_flat), np.unique(pred_flat)])))\n",
    "    \n",
    "    # Create confusion matrix\n",
    "    cm = confusion_matrix(true_flat, pred_flat, labels=unique_states)\n",
    "    \n",
    "    # Normalize if requested\n",
    "    if normalize:\n",
    "        cm_plot = cm.astype('float') / cm.sum(axis=1)[:, np.newaxis]\n",
    "        fmt = '.2f'\n",
    "    else:\n",
    "        cm_plot = cm\n",
    "        fmt = 'd'\n",
    "    \n",
    "    # Visualization\n",
    "    plt.figure(figsize=(10, 8))\n",
    "    if state_names is None:\n",
    "        state_names = [f\"State {i}\" for i in unique_states]\n",
    "    \n",
    "    sns.heatmap(cm_plot, annot=True, fmt=fmt, cmap='BuPu',\n",
    "                xticklabels=state_names, yticklabels=state_names)\n",
    "    plt.xlabel('Predicted States')\n",
    "    plt.ylabel('True States')\n",
    "    plt.title(title)\n",
    "    plt.tight_layout()\n",
    "    plt.show()\n",
    "    \n",
    "    return cm"
   ]
  },
  {
   "cell_type": "code",
   "execution_count": 57,
   "metadata": {},
   "outputs": [
    {
     "data": {
      "image/png": "[encoded data removed]",
      "text/plain": [
       "<Figure size 1000x800 with 2 Axes>"
      ]
     },
     "metadata": {},
     "output_type": "display_data"
    },
    {
     "name": "stdout",
     "output_type": "stream",
     "text": [
      "Top 5 most problematic sequences:\n",
      "Sequence 8183: 163 errors\n",
      "  True:      ['CONJ', '.', 'NOUN', '.', 'PRT', 'VERB', '.', 'ADP', 'ADV', 'ADJ', 'ADP', 'NUM', 'NOUN', 'ADP', 'DET', 'NOUN', 'ADP', 'VERB', 'NOUN', '.', 'ADJ', 'NOUN', 'ADP', 'VERB', 'VERB', 'PRT', 'VERB', '.', 'VERB', '.', 'CONJ', 'VERB', 'PRT', 'DET', 'NOUN', 'ADP', 'NOUN', 'CONJ', 'NOUN', 'VERB', 'ADP', 'ADP', 'DET', 'NOUN', '.', 'VERB', '.', 'ADP', 'NOUN', 'ADJ', 'ADP', 'DET', 'NUM', 'NOUN', 'ADP', 'NOUN', 'CONJ', 'NOUN', 'VERB', '.', 'ADJ', 'ADP', 'DET', 'NOUN', 'ADP', 'DET', 'NOUN', 'ADP', 'NOUN', 'PRT', 'VERB', 'ADP', 'ADJ', 'NOUN', 'VERB', 'ADJ', 'ADP', 'DET', 'ADJ', 'NOUN', 'NOUN', 'ADP', 'DET', 'VERB', 'NOUN', '.', 'VERB', 'VERB', 'ADP', 'NOUN', 'ADP', 'ADJ', 'CONJ', 'ADJ', 'NOUN', 'ADP', 'ADJ', 'NOUN', 'ADP', 'DET', 'NOUN', 'ADP', 'NOUN', 'ADJ', 'ADP', 'DET', 'NOUN', 'ADP', 'DET', 'VERB', 'NOUN', '.', 'CONJ', 'VERB', 'ADV', '.', 'ADP', 'DET', 'ADJ', 'NOUN', 'CONJ', 'NOUN', 'VERB', 'ADP', 'DET', 'ADJ', 'CONJ', 'ADJ', 'NOUN', 'ADP', 'DET', 'ADJ', 'NOUN', 'VERB', 'VERB', 'NOUN', 'ADJ', 'PRT', 'VERB', 'ADP', 'DET', 'NOUN', 'CONJ', 'NOUN', 'VERB', 'ADP', 'NOUN', 'ADV', 'VERB', 'VERB', 'ADJ', 'ADP', 'NOUN', 'ADP', 'DET', 'VERB', 'NOUN', 'ADP', 'DET', 'NOUN', 'ADP', 'DET', 'VERB', 'NOUN', 'ADP', 'DET', 'NOUN', 'CONJ', 'ADP', 'DET', 'NOUN', 'ADP', 'DET', 'ADJ', 'NOUN', 'ADP', 'DET', 'VERB', 'NOUN', '.']\n",
      "  Predicted: ['VERB', 'VERB', 'VERB', 'NOUN', 'VERB', 'VERB', 'NOUN', 'NOUN', 'NOUN', 'NOUN', 'NOUN', 'VERB', '.', '.', '.', 'NOUN', 'NOUN', 'VERB', 'VERB', 'VERB', 'VERB', 'VERB', 'VERB', 'VERB', 'VERB', 'VERB', 'VERB', 'VERB', 'VERB', 'VERB', 'VERB', 'VERB', '.', '.', '.', '.', 'VERB', 'VERB', 'VERB', 'VERB', 'VERB', 'VERB', 'VERB', '.', 'VERB', 'VERB', 'VERB', 'VERB', 'VERB', 'VERB', 'NOUN', 'NOUN', 'VERB', 'VERB', 'VERB', 'VERB', 'VERB', 'VERB', 'VERB', 'VERB', 'VERB', 'VERB', '.', '.', '.', '.', '.', '.', '.', 'VERB', 'VERB', 'VERB', 'VERB', 'VERB', 'VERB', '.', '.', '.', '.', '.', '.', '.', '.', '.', '.', '.', '.', '.', '.', '.', '.', '.', '.', '.', '.', '.', '.', '.', '.', '.', '.', '.', '.', '.', '.', '.', '.', '.', '.', '.', '.', '.', '.', '.', '.', '.', '.', '.', '.', '.', '.', '.', '.', '.', '.', '.', '.', '.', '.', '.', '.', '.', '.', '.', '.', '.', '.', '.', '.', '.', '.', '.', '.', '.', '.', '.', '.', '.', '.', '.', '.', '.', '.', '.', '.', '.', '.', '.', '.', '.', '.', '.', '.', '.', '.', '.', '.', '.', '.', '.', '.', '.', '.', '.', '.', '.', '.', '.', '.', '.']\n"
     ]
    },
    {
     "ename": "TypeError",
     "evalue": "sequence item 0: expected str instance, Token found",
     "output_type": "error",
     "traceback": [
      "\u001b[0;31m---------------------------------------------------------------------------\u001b[0m",
      "\u001b[0;31mTypeError\u001b[0m                                 Traceback (most recent call last)",
      "Cell \u001b[0;32mIn[57], line 42\u001b[0m\n\u001b[1;32m     38\u001b[0m         \u001b[38;5;28mprint\u001b[39m()\n\u001b[1;32m     40\u001b[0m \u001b[38;5;66;03m# Analyze errors for supervised model\u001b[39;00m\n\u001b[1;32m     41\u001b[0m \u001b[38;5;66;03m# analyze_errors(supervised_cm, targets, predictions_nltk)\u001b[39;00m\n\u001b[0;32m---> 42\u001b[0m \u001b[43manalyze_errors\u001b[49m\u001b[43m(\u001b[49m\u001b[43msupervised_cm\u001b[49m\u001b[43m,\u001b[49m\u001b[43m \u001b[49m\u001b[43mtargets\u001b[49m\u001b[43m,\u001b[49m\u001b[43m \u001b[49m\u001b[43mpredictions_bw\u001b[49m\u001b[43m)\u001b[49m\n",
      "Cell \u001b[0;32mIn[57], line 36\u001b[0m, in \u001b[0;36manalyze_errors\u001b[0;34m(cm, true_states, pred_states)\u001b[0m\n\u001b[1;32m     34\u001b[0m \u001b[38;5;28mprint\u001b[39m(\u001b[38;5;124mf\u001b[39m\u001b[38;5;124m\"\u001b[39m\u001b[38;5;124m  True:      \u001b[39m\u001b[38;5;132;01m{\u001b[39;00m[s\u001b[38;5;250m \u001b[39m\u001b[38;5;28;01mfor\u001b[39;00m\u001b[38;5;250m \u001b[39ms\u001b[38;5;250m \u001b[39m\u001b[38;5;129;01min\u001b[39;00m\u001b[38;5;250m \u001b[39mtrue_states[i]]\u001b[38;5;132;01m}\u001b[39;00m\u001b[38;5;124m\"\u001b[39m)\n\u001b[1;32m     35\u001b[0m \u001b[38;5;28mprint\u001b[39m(\u001b[38;5;124mf\u001b[39m\u001b[38;5;124m\"\u001b[39m\u001b[38;5;124m  Predicted: \u001b[39m\u001b[38;5;132;01m{\u001b[39;00m[s\u001b[38;5;250m \u001b[39m\u001b[38;5;28;01mfor\u001b[39;00m\u001b[38;5;250m \u001b[39ms\u001b[38;5;250m \u001b[39m\u001b[38;5;129;01min\u001b[39;00m\u001b[38;5;250m \u001b[39mpred_states[i]]\u001b[38;5;132;01m}\u001b[39;00m\u001b[38;5;124m\"\u001b[39m)\n\u001b[0;32m---> 36\u001b[0m sequence \u001b[38;5;241m=\u001b[39m \u001b[38;5;124;43m\"\u001b[39;49m\u001b[38;5;124;43m \u001b[39;49m\u001b[38;5;124;43m\"\u001b[39;49m\u001b[38;5;241;43m.\u001b[39;49m\u001b[43mjoin\u001b[49m\u001b[43m(\u001b[49m\u001b[43mtest_sample\u001b[49m\u001b[43m[\u001b[49m\u001b[43mi\u001b[49m\u001b[43m]\u001b[49m\u001b[43m)\u001b[49m\n\u001b[1;32m     37\u001b[0m \u001b[38;5;28mprint\u001b[39m(\u001b[38;5;124mf\u001b[39m\u001b[38;5;124m\"\u001b[39m\u001b[38;5;132;01m{\u001b[39;00msequence\u001b[38;5;132;01m}\u001b[39;00m\u001b[38;5;124m\"\u001b[39m)\n\u001b[1;32m     38\u001b[0m \u001b[38;5;28mprint\u001b[39m()\n",
      "\u001b[0;31mTypeError\u001b[0m: sequence item 0: expected str instance, Token found"
     ]
    }
   ],
   "source": [
    "# - targets: list of true state sequences from your test data\n",
    "# - predictions_nltk: predictions from your supervised model\n",
    "# - predictions_bw: predictions from your unsupervised model\n",
    "\n",
    "# Confusion matrices\n",
    "# supervised_cm = create_hmm_confusion_matrix(\n",
    "#     targets, \n",
    "#     predictions_nltk,\n",
    "#     state_names=tags_nltk,\n",
    "#     title=\"Supervised HMM Confusion Matrix\"\n",
    "# )\n",
    "\n",
    "unsupervised_cm = create_hmm_confusion_matrix(\n",
    "    targets, \n",
    "    predictions_bw,\n",
    "    state_names=tags_bw,\n",
    "    title=\"Unsupervised HMM Confusion Matrix\"\n",
    ")\n",
    "\n",
    "#  Detailed error analysis\n",
    "def analyze_errors(cm, true_states, pred_states):\n",
    "    \"\"\"Analyze which sequences have the most errors\"\"\"  \n",
    "    # Calculate errors per sequence\n",
    "    errors = []\n",
    "    for true_seq, pred_seq in zip(true_states, pred_states):\n",
    "        errors.append(sum(t != p for t, p in zip(true_seq, pred_seq)))\n",
    "    \n",
    "    # Find most problematic sequences\n",
    "    sorted_indices = np.argsort(errors)[::-1]\n",
    "    \n",
    "    print(\"Top 5 most problematic sequences:\")\n",
    "    for i in sorted_indices[:5]:\n",
    "        print(f\"Sequence {i}: {errors[i]} errors\")\n",
    "        print(f\"  True:      {[s for s in true_states[i]]}\")\n",
    "        print(f\"  Predicted: {[s for s in pred_states[i]]}\")\n",
    "        sequence = \" \".join(test_sample[i])\n",
    "        print(f\"{sequence}\")\n",
    "        print()\n",
    "\n",
    "# Analyze errors for supervised model\n",
    "# analyze_errors(supervised_cm, targets, predictions_nltk)\n",
    "analyze_errors(supervised_cm, targets, predictions_bw)"
   ]
  }
 ],
 "metadata": {
  "kernelspec": {
   "display_name": "Python 3",
   "language": "python",
   "name": "python3"
  },
  "language_info": {
   "codemirror_mode": {
    "name": "ipython",
    "version": 3
   },
   "file_extension": ".py",
   "mimetype": "text/x-python",
   "name": "python",
   "nbconvert_exporter": "python",
   "pygments_lexer": "ipython3",
   "version": "3.10.12"
  }
 },
 "nbformat": 4,
 "nbformat_minor": 2
}
