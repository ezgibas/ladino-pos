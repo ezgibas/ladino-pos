{
 "cells": [
  {
   "cell_type": "code",
   "execution_count": 2,
   "metadata": {},
   "outputs": [],
   "source": [
    "import sys\n",
    "import os\n",
    "\n",
    "# Add the scripts folder to the Python path\n",
    "sys.path.append(os.path.abspath(\"../scripts\"))  # Adjust the path accordingly"
   ]
  },
  {
   "cell_type": "code",
   "execution_count": 3,
   "metadata": {},
   "outputs": [
    {
     "name": "stdout",
     "output_type": "stream",
     "text": [
      "Defaulting to user installation because normal site-packages is not writeable\n",
      "Requirement already satisfied: nltk in /home/ezgibas/.local/lib/python3.10/site-packages (3.9.1)\n",
      "Requirement already satisfied: click in /home/ezgibas/.local/lib/python3.10/site-packages (from nltk) (8.1.8)\n",
      "Requirement already satisfied: regex>=2021.8.3 in /home/ezgibas/.local/lib/python3.10/site-packages (from nltk) (2024.11.6)\n",
      "Requirement already satisfied: tqdm in /home/ezgibas/.local/lib/python3.10/site-packages (from nltk) (4.67.1)\n",
      "Requirement already satisfied: joblib in /home/ezgibas/.local/lib/python3.10/site-packages (from nltk) (1.4.2)\n",
      "Defaulting to user installation because normal site-packages is not writeable\n",
      "Requirement already satisfied: datasets in /home/ezgibas/.local/lib/python3.10/site-packages (3.4.1)\n",
      "Requirement already satisfied: numpy>=1.17 in /home/ezgibas/.local/lib/python3.10/site-packages (from datasets) (2.2.3)\n",
      "Requirement already satisfied: huggingface-hub>=0.24.0 in /home/ezgibas/.local/lib/python3.10/site-packages (from datasets) (0.29.3)\n",
      "Requirement already satisfied: requests>=2.32.2 in /home/ezgibas/.local/lib/python3.10/site-packages (from datasets) (2.32.3)\n",
      "Requirement already satisfied: dill<0.3.9,>=0.3.0 in /home/ezgibas/.local/lib/python3.10/site-packages (from datasets) (0.3.8)\n",
      "Requirement already satisfied: packaging in /home/ezgibas/.local/lib/python3.10/site-packages (from datasets) (24.2)\n",
      "Requirement already satisfied: pyarrow>=15.0.0 in /home/ezgibas/.local/lib/python3.10/site-packages (from datasets) (19.0.1)\n",
      "Requirement already satisfied: aiohttp in /home/ezgibas/.local/lib/python3.10/site-packages (from datasets) (3.11.14)\n",
      "Requirement already satisfied: pyyaml>=5.1 in /usr/lib/python3/dist-packages (from datasets) (5.4.1)\n",
      "Requirement already satisfied: filelock in /home/ezgibas/.local/lib/python3.10/site-packages (from datasets) (3.18.0)\n",
      "Requirement already satisfied: xxhash in /home/ezgibas/.local/lib/python3.10/site-packages (from datasets) (3.5.0)\n",
      "Requirement already satisfied: fsspec[http]<=2024.12.0,>=2023.1.0 in /home/ezgibas/.local/lib/python3.10/site-packages (from datasets) (2024.12.0)\n",
      "Requirement already satisfied: pandas in /home/ezgibas/.local/lib/python3.10/site-packages (from datasets) (2.2.3)\n",
      "Requirement already satisfied: multiprocess<0.70.17 in /home/ezgibas/.local/lib/python3.10/site-packages (from datasets) (0.70.16)\n",
      "Requirement already satisfied: tqdm>=4.66.3 in /home/ezgibas/.local/lib/python3.10/site-packages (from datasets) (4.67.1)\n",
      "Requirement already satisfied: attrs>=17.3.0 in /usr/lib/python3/dist-packages (from aiohttp->datasets) (21.2.0)\n",
      "Requirement already satisfied: aiohappyeyeballs>=2.3.0 in /home/ezgibas/.local/lib/python3.10/site-packages (from aiohttp->datasets) (2.6.1)\n",
      "Requirement already satisfied: aiosignal>=1.1.2 in /home/ezgibas/.local/lib/python3.10/site-packages (from aiohttp->datasets) (1.3.2)\n",
      "Requirement already satisfied: yarl<2.0,>=1.17.0 in /home/ezgibas/.local/lib/python3.10/site-packages (from aiohttp->datasets) (1.18.3)\n",
      "Requirement already satisfied: async-timeout<6.0,>=4.0 in /home/ezgibas/.local/lib/python3.10/site-packages (from aiohttp->datasets) (5.0.1)\n",
      "Requirement already satisfied: frozenlist>=1.1.1 in /home/ezgibas/.local/lib/python3.10/site-packages (from aiohttp->datasets) (1.5.0)\n",
      "Requirement already satisfied: propcache>=0.2.0 in /home/ezgibas/.local/lib/python3.10/site-packages (from aiohttp->datasets) (0.3.0)\n",
      "Requirement already satisfied: multidict<7.0,>=4.5 in /home/ezgibas/.local/lib/python3.10/site-packages (from aiohttp->datasets) (6.2.0)\n",
      "Requirement already satisfied: typing-extensions>=3.7.4.3 in /home/ezgibas/.local/lib/python3.10/site-packages (from huggingface-hub>=0.24.0->datasets) (4.12.2)\n",
      "Requirement already satisfied: urllib3<3,>=1.21.1 in /usr/lib/python3/dist-packages (from requests>=2.32.2->datasets) (1.26.5)\n",
      "Requirement already satisfied: idna<4,>=2.5 in /usr/lib/python3/dist-packages (from requests>=2.32.2->datasets) (3.3)\n",
      "Requirement already satisfied: certifi>=2017.4.17 in /usr/lib/python3/dist-packages (from requests>=2.32.2->datasets) (2020.6.20)\n",
      "Requirement already satisfied: charset-normalizer<4,>=2 in /home/ezgibas/.local/lib/python3.10/site-packages (from requests>=2.32.2->datasets) (3.4.1)\n",
      "Requirement already satisfied: pytz>=2020.1 in /home/ezgibas/.local/lib/python3.10/site-packages (from pandas->datasets) (2025.1)\n",
      "Requirement already satisfied: python-dateutil>=2.8.2 in /home/ezgibas/.local/lib/python3.10/site-packages (from pandas->datasets) (2.9.0.post0)\n",
      "Requirement already satisfied: tzdata>=2022.7 in /home/ezgibas/.local/lib/python3.10/site-packages (from pandas->datasets) (2025.2)\n",
      "Requirement already satisfied: six>=1.5 in /usr/lib/python3/dist-packages (from python-dateutil>=2.8.2->pandas->datasets) (1.16.0)\n"
     ]
    }
   ],
   "source": [
    "! pip install -U nltk\n",
    "! pip install datasets"
   ]
  },
  {
   "cell_type": "code",
   "execution_count": 4,
   "metadata": {},
   "outputs": [
    {
     "name": "stdout",
     "output_type": "stream",
     "text": [
      "../data/weak/ladino-pos.txt\n"
     ]
    }
   ],
   "source": [
    "from load_preprocessed_data import load_ladino_pos\n",
    "\n",
    "weak_dataset_file_path = '../data/weak/ladino-pos.txt'\n",
    "weak_tags, weak_tags_dict = load_ladino_pos(weak_dataset_file_path) # import ladino tokens into custom data definition"
   ]
  },
  {
   "cell_type": "code",
   "execution_count": 5,
   "metadata": {},
   "outputs": [
    {
     "name": "stdout",
     "output_type": "stream",
     "text": [
      "¡ (PUNCT)\n",
      "Venidos (NOUN)\n",
      "buenos (ADJ)\n",
      "! (PUNCT)\n"
     ]
    }
   ],
   "source": [
    "# check it worked\n",
    "for item in weak_tags[0]:\n",
    "    print(item)"
   ]
  },
  {
   "cell_type": "code",
   "execution_count": 6,
   "metadata": {},
   "outputs": [
    {
     "name": "stderr",
     "output_type": "stream",
     "text": [
      "/home/ezgibas/.local/lib/python3.10/site-packages/tqdm/auto.py:21: TqdmWarning: IProgress not found. Please update jupyter and ipywidgets. See https://ipywidgets.readthedocs.io/en/stable/user_install.html\n",
      "  from .autonotebook import tqdm as notebook_tqdm\n"
     ]
    }
   ],
   "source": [
    "from datasets import load_dataset\n",
    "\n",
    "labeled_data = weak_tags\n",
    "unlabeled_data = load_dataset(\"collectivat/salom-ladino-articles\")['train']\n",
    "train = unlabeled_data[:10300]['text']\n",
    "validate = unlabeled_data[10301:10500]['text']\n",
    "test = unlabeled_data[10501:10685]['text']"
   ]
  },
  {
   "cell_type": "code",
   "execution_count": 7,
   "metadata": {},
   "outputs": [],
   "source": [
    "import spacy\n",
    "\n",
    "nlp = spacy.load(\"es_core_news_sm\")\n",
    "weakly_labeled = []\n",
    "\n",
    "for sentence in train:\n",
    "    doc = nlp(sentence)\n",
    "    tagged_sentence = [(token.text, token.pos_) for token in doc]\n",
    "    weakly_labeled.append(tagged_sentence)\n"
   ]
  },
  {
   "cell_type": "code",
   "execution_count": 8,
   "metadata": {},
   "outputs": [],
   "source": [
    "import nltk\n",
    "\n",
    "def laplace_smoothing(freq_dist, bins):\n",
    "    return nltk.LaplaceProbDist(freq_dist, bins)\n",
    "\n",
    "def trainer(labeled, unlabeled):\n",
    "    trainer = nltk.tag.hmm.HiddenMarkovModelTrainer()\n",
    "    hmm_tagger = trainer.train_supervised(labeled, estimator=laplace_smoothing)\n",
    "    combined_data = labeled + unlabeled\n",
    "    hmm_tagger = trainer.train_supervised(combined_data, estimator=laplace_smoothing)\n",
    "    return hmm_tagger\n",
    "\n",
    "# format_unlabeled_data = [data.split() for data in train]\n",
    "format_labeled_data = [[(token.get_word(), token.get_pos()) for token in sentence] for sentence in labeled_data]\n",
    "\n",
    "hmm_tagger = trainer(format_labeled_data, weakly_labeled)"
   ]
  },
  {
   "cell_type": "code",
   "execution_count": 9,
   "metadata": {},
   "outputs": [],
   "source": [
    "# save the hmm so we don't have to train every time\n",
    "import pickle\n",
    "\n",
    "# Save the trained HMM model to a file\n",
    "with open(\"../results/hmm_tagger.pkl\", \"wb\") as f:\n",
    "    pickle.dump(hmm_tagger, f)"
   ]
  },
  {
   "cell_type": "code",
   "execution_count": null,
   "metadata": {},
   "outputs": [
    {
     "name": "stdout",
     "output_type": "stream",
     "text": [
      "[('Ma', 'PROPN'), ('yo', 'PRON'), ('no', 'ADV'), ('se', 'PRON'), ('meldar', 'VERB'), ('!', 'PUNCT')]\n"
     ]
    }
   ],
   "source": [
    "from preprocessing import tokenize\n",
    "\n",
    "sentence = test[100]\n",
    "tokens, _ = tokenize(sentence)\n",
    "\n",
    "tagged_sentence = hmm_tagger.tag(tokens)\n",
    "print(tagged_sentence)\n",
    "\n",
    "# accuracy = hmm_tagger.accuracy(formatted_sentences)\n",
    "# print(f\"Accuracy: {accuracy:.2%}\")"
   ]
  },
  {
   "cell_type": "markdown",
   "metadata": {},
   "source": []
  }
 ],
 "metadata": {
  "kernelspec": {
   "display_name": "Python 3",
   "language": "python",
   "name": "python3"
  },
  "language_info": {
   "codemirror_mode": {
    "name": "ipython",
    "version": 3
   },
   "file_extension": ".py",
   "mimetype": "text/x-python",
   "name": "python",
   "nbconvert_exporter": "python",
   "pygments_lexer": "ipython3",
   "version": "3.10.12"
  }
 },
 "nbformat": 4,
 "nbformat_minor": 2
}
