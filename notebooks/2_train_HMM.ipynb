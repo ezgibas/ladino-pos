{
 "cells": [
  {
   "cell_type": "code",
   "execution_count": 16,
   "metadata": {},
   "outputs": [],
   "source": [
    "import sys\n",
    "import os\n",
    "\n",
    "# Add the scripts folder to the Python path\n",
    "sys.path.append(os.path.abspath(\"../scripts\"))  # Adjust the path accordingly"
   ]
  },
  {
   "cell_type": "code",
   "execution_count": 23,
   "metadata": {},
   "outputs": [
    {
     "name": "stdout",
     "output_type": "stream",
     "text": [
      "../data/weak/ladino-pos.txt\n"
     ]
    }
   ],
   "source": [
    "from load_preprocessed_data import load_ladino_pos\n",
    "\n",
    "weak_dataset_file_path = '../data/weak/ladino-pos.txt'\n",
    "weak_tags, weak_tags_dict = load_ladino_pos(weak_dataset_file_path) # import ladino tokens into custom data definition"
   ]
  },
  {
   "cell_type": "code",
   "execution_count": 24,
   "metadata": {},
   "outputs": [
    {
     "name": "stdout",
     "output_type": "stream",
     "text": [
      "¡ (PUNCT)\n",
      "Venidos (NOUN)\n",
      "buenos (ADJ)\n",
      "! (PUNCT)\n"
     ]
    }
   ],
   "source": [
    "# check it worked\n",
    "for item in weak_tags[0]:\n",
    "    print(item)"
   ]
  },
  {
   "cell_type": "code",
   "execution_count": 20,
   "metadata": {},
   "outputs": [],
   "source": [
    "from datasets import load_dataset\n",
    "\n",
    "labeled_data = weak_tags\n",
    "unlabeled_data = load_dataset(\"collectivat/salom-ladino-articles\")['train']\n",
    "train = unlabeled_data[:10300]['text']\n",
    "validate = unlabeled_data[10301:10500]['text']\n",
    "test = unlabeled_data[10501:10685]['text']"
   ]
  },
  {
   "cell_type": "code",
   "execution_count": null,
   "metadata": {},
   "outputs": [],
   "source": [
    "# import spacy\n",
    "\n",
    "# nlp = spacy.load(\"es_core_news_sm\")\n",
    "# weakly_labeled = []\n",
    "\n",
    "# for sentence in train:\n",
    "#     doc = nlp(sentence)\n",
    "#     tagged_sentence = [(token.text, token.pos_) for token in doc]\n",
    "#     weakly_labeled.append(tagged_sentence)\n"
   ]
  },
  {
   "cell_type": "markdown",
   "metadata": {},
   "source": [
    "# Prepare probabilities of tags to pass into HMM"
   ]
  },
  {
   "cell_type": "code",
   "execution_count": null,
   "metadata": {},
   "outputs": [
    {
     "name": "stdout",
     "output_type": "stream",
     "text": [
      "[('PUNCT', 719), ('NOUN', 520), ('DET', 452), ('VERB', 341), ('AUX', 326), ('PROPN', 301), ('ADJ', 254), ('PRON', 215), ('ADP', 175), ('ADV', 153), ('SCONJ', 31), ('CCONJ', 29), ('NUM', 18), ('INTJ', 6), ('SYM', 2), (('PUNCT', '<s/>'), 1), ('PREP', 1)]\n",
      "[(('DET', 'NOUN'), 361), (('NOUN', 'PUNCT'), 261), (('ADJ', 'PUNCT'), 196), (('<s>', 'PROPN'), 155), (('<s>', 'DET'), 152), (('<s>', 'PRON'), 126), (('AUX', 'DET'), 107), (('PROPN', 'PUNCT'), 100), (('PRON', 'VERB'), 96), (('AUX', 'ADJ'), 94), (('NOUN', 'AUX'), 85), (('VERB', 'DET'), 84), (('VERB', 'PUNCT'), 68), (('<s>', 'AUX'), 67), (('<s>', 'VERB'), 64), (('PROPN', 'AUX'), 62), (('NOUN', 'ADJ'), 59), (('VERB', 'ADP'), 59), (('<s>', 'ADV'), 54), (('ADP', 'PROPN'), 50), (('ADP', 'DET'), 50), (('PRON', 'AUX'), 47), (('ADV', 'AUX'), 47), (('NOUN', 'ADP'), 39), (('VERB', 'NOUN'), 38), (('ADP', 'NOUN'), 36), (('AUX', 'VERB'), 36), (('PROPN', 'VERB'), 35), (('DET', 'ADJ'), 35), (('AUX', 'NOUN'), 34), (('ADV', 'VERB'), 32), (('ADV', 'PUNCT'), 30), (('VERB', 'VERB'), 30), (('PROPN', 'PROPN'), 26), (('PRON', 'PUNCT'), 26), (('DET', 'PROPN'), 25), (('NOUN', 'ADV'), 23), (('<s>', 'ADP'), 23), (('PROPN', 'ADV'), 22), (('ADV', 'PRON'), 19), (('ADP', 'PRON'), 19), (('NOUN', 'VERB'), 19), (('NOUN', 'CCONJ'), 18), (('CCONJ', 'DET'), 18), (('AUX', 'ADV'), 17), (('PROPN', 'ADJ'), 16), (('VERB', 'PROPN'), 15), (('ADV', 'ADJ'), 15), (('VERB', 'SCONJ'), 15), (('AUX', 'ADP'), 15), (('ADJ', 'NOUN'), 14), (('ADJ', 'ADP'), 14), (('VERB', 'ADJ'), 14), (('PROPN', 'DET'), 14), (('PRON', 'PRON'), 13), (('<s>', 'PUNCT'), 12), (('VERB', 'ADV'), 12), (('ADJ', 'ADJ'), 11), (('PRON', 'NOUN'), 10), (('PRON', 'ADV'), 10), (('AUX', 'PROPN'), 9), (('SCONJ', 'PRON'), 9), (('PUNCT', 'PROPN'), 9), (('ADP', 'VERB'), 9), (('DET', 'DET'), 8), (('PROPN', 'ADP'), 8), (('DET', 'VERB'), 8), (('PROPN', 'PRON'), 8), (('ADJ', 'CCONJ'), 7), (('NUM', 'PUNCT'), 7), (('<s>', 'INTJ'), 6), (('INTJ', 'PUNCT'), 6), (('ADV', 'ADV'), 6), (('<s>', 'NOUN'), 6), (('SCONJ', 'DET'), 6), (('PUNCT', 'NUM'), 6), (('NUM', 'NUM'), 6), (('PUNCT', 'VERB'), 6), (('PUNCT', 'NOUN'), 5), (('PUNCT', 'PRON'), 5), (('PROPN', 'NOUN'), 5), (('NOUN', 'PROPN'), 5), (('PRON', 'DET'), 5), (('DET', 'NUM'), 5), (('AUX', 'AUX'), 5), (('NOUN', 'SCONJ'), 5), (('ADJ', 'ADV'), 5), (('PUNCT', 'ADV'), 4), (('VERB', 'PRON'), 4), (('AUX', 'PUNCT'), 4), (('SCONJ', 'VERB'), 4), (('SCONJ', 'NOUN'), 4), (('NUM', 'AUX'), 4), (('AUX', 'PRON'), 4), (('ADP', 'ADP'), 4), (('PRON', 'ADP'), 4), (('DET', 'AUX'), 4), (('CCONJ', 'NOUN'), 4), (('PUNCT', 'DET'), 4), (('CCONJ', 'ADJ'), 3), (('PUNCT', 'PUNCT'), 3), (('<s>', 'SCONJ'), 3), (('PUNCT', 'ADP'), 3), (('PROPN', 'CCONJ'), 3), (('ADP', 'ADJ'), 3), (('SCONJ', 'PROPN'), 3), (('NOUN', 'PRON'), 2), (('NOUN', 'NOUN'), 2), (('DET', 'ADP'), 2), (('PRON', 'PROPN'), 2), (('<s>', 'ADJ'), 2), (('ADP', 'AUX'), 2), (('CCONJ', 'PRON'), 2), (('DET', 'PRON'), 2), (('ADJ', 'VERB'), 2), (('ADJ', 'SCONJ'), 2), (('ADJ', 'PRON'), 2), (('SCONJ', 'PUNCT'), 2), (('PUNCT', 'AUX'), 2), (('ADP', 'PUNCT'), 2), (('SCONJ', 'SCONJ'), 2), (('DET', 'PUNCT'), 2), (('PROPN', 'SCONJ'), 1), (('CCONJ', 'ADP'), 1), (('SCONJ', 'ADP'), 1), (('PRON', 'ADJ'), 1), (('AUX', 'SCONJ'), 1), (('NOUN', 'DET'), 1), (('PRON', 'SCONJ'), 1), (('VERB', 'NUM'), 1), (('NUM', 'NOUN'), 1), (('PUNCT', 'ADJ'), 1), (('ADJ', 'AUX'), 1), (('ADV', 'SCONJ'), 1), (('ADV', 'PROPN'), 1), (('CCONJ', 'PROPN'), 1), (('PROPN', 'PREP'), 1), (('PREP', 'DET'), 1), (('ADV', 'ADP'), 1), (('ADV', 'DET'), 1), (('VERB', 'SYM'), 1), (('SYM', 'DET'), 1), (('NOUN', 'SYM'), 1), (('SYM', 'ADP'), 1), (('<s>', 'CCONJ'), 1)]\n",
      "[(('PUNCT', '.'), 556), (('AUX', 'es'), 167), (('PUNCT', '?'), 84), (('DET', 'un'), 78), (('PROPN', 'Tom'), 57), (('DET', 'el'), 56), (('ADV', 'no'), 53), (('DET', 'El'), 50), (('ADP', 'de'), 41), (('ADP', 'en'), 40), (('DET', 'la'), 38), (('ADV', 'No'), 36), (('DET', 'una'), 36), (('PUNCT', '!'), 35), (('DET', 'La'), 28), (('PUNCT', ','), 27), (('DET', 'los'), 26), (('ADP', 'kon'), 25), (('CCONJ', 'i'), 25), (('ADP', 'a'), 24), (('PRON', 'Me'), 22), (('SCONJ', 'ke'), 21), (('DET', 'Los'), 21), (('AUX', 'son'), 19), (('DET', 'Mi'), 16), (('AUX', 'So'), 16), (('PRON', 'Eya'), 15), (('VERB', 'esta'), 14), (('AUX', 'Es'), 14), (('NOUN', 'gato'), 14), (('VERB', 'plaze'), 13), (('DET', 'las'), 13), (('AUX', 'esta'), 13), (('VERB', 'Kero'), 12), (('DET', 'mi'), 12), (('NOUN', 'lingua'), 12), (('NOUN', 'mansana'), 12), (('PRON', 'El'), 12), (('PRON', 'se'), 12), (('ADJ', 'vedre'), 12), (('PRON', 'me'), 11), (('ADV', 'muy'), 11), (('AUX', 'Esto'), 11), (('AUX', 'estan'), 11), (('VERB', 'tiene'), 11), (('PRON', 'Esto'), 10), (('AUX', 'so'), 10), (('NOUN', 'mujer'), 9), (('VERB', 'plazen'), 9), (('ADP', 'En'), 8), (('NOUN', 'pan'), 8), (('PRON', 'Yo'), 8), (('ADV', 'ayi'), 8), (('VERB', 'kero'), 8), (('NOUN', 'perro'), 8), (('ADV', 'aki'), 8), (('NOUN', 'kaza'), 7), (('AUX', 'esto'), 7), (('NUM', 'dos'), 7), (('PRON', 'Onde'), 7), (('VERB', 'avla'), 7), (('ADJ', 'djudio'), 7), (('VERB', 'yamo'), 6), (('ADP', 'del'), 6), (('ADP', 'A'), 6), (('PRON', 'le'), 6), (('ADJ', 'kolorada'), 6), (('NOUN', 'bisikleta'), 6), (('NOUN', 'linguas'), 6), (('DET', 'tu'), 6), (('PROPN', 'Maria'), 6), (('NOUN', 'ladron'), 6), (('ADV', 'mas'), 6), (('ADJ', 'grande'), 6), (('ADJ', 'preto'), 6), (('AUX', 'era'), 6), (('PRON', 'mi'), 6), (('ADP', 'Deke'), 6), (('PROPN', 'Sami'), 6), (('DET', 'Esta'), 6), (('AUX', 'Somos'), 6), (('ADJ', 'djudia'), 6), (('ADJ', 'fransez'), 5), (('PRON', 'lo'), 5), (('NOUN', 'sivdad'), 5), (('PROPN', 'Yerushalayim'), 5), (('ADJ', 'mavi'), 5), (('NOUN', 'ojos'), 5), (('ADJ', 'mavis'), 5), (('PROPN', 'Dio'), 5), (('SCONJ', 'komo'), 5), (('PRON', 'Mozotros'), 5), (('PRON', 'Komo'), 5), (('PROPN', 'York'), 5), (('DET', 'Las'), 5), (('NOUN', 'marido'), 5), (('DET', 'Una'), 5), (('NOUN', 'nombre'), 5), (('PRON', 'Ke'), 5), (('NOUN', 'padre'), 5), (('NOUN', 'problemes'), 5), (('VERB', 'Tengo'), 5), (('PROPN', 'Ester'), 5), (('NOUN', 'ebreo'), 5), (('VERB', 'ambezando'), 5), (('AUX', 'Sos'), 5), (('NOUN', 'portokales'), 5), (('NOUN', 'inglez'), 4), (('VERB', 'bivir'), 4), (('PROPN', 'Sos'), 4), (('NOUN', 'portokal'), 4), (('NOUN', 'paras'), 4), (('VERB', 'merkando'), 4), (('NOUN', 'ermano'), 4), (('VERB', 'kere'), 4), (('PUNCT', '\"'), 4), (('PROPN', 'Mueva'), 4), (('VERB', 'lavoresh'), 4), (('VERB', 'mato'), 4), (('NOUN', 'mushteri'), 4), (('NOUN', 'mundo'), 4), (('NOUN', 'ambre'), 4), (('NOUN', 'fambre'), 4), (('NOUN', 'paiz'), 4), (('VERB', 'Penso'), 4), (('ADJ', 'madjar'), 4), (('NOUN', 'perriko'), 4), (('PROPN', 'Trump'), 4), (('ADJ', 'inglez'), 4), (('PROPN', 'Epstein'), 4), (('PROPN', 'Espanya'), 4), (('NOUN', 'djudio'), 4), (('VERB', 'avlan'), 4), (('PRON', 'Eyos'), 3), (('PROPN', 'Avlo'), 3), (('ADJ', 'muy'), 3), (('VERB', 'save'), 3), (('AUX', 'estamos'), 3), (('PRON', 'Te'), 3), (('NOUN', 'vida'), 3), (('NOUN', 'ivrit'), 3), (('NOUN', 'prinsipyo'), 3), (('PROPN', 'krio'), 3), (('VERB', 'Dyo'), 3), (('NOUN', 'syelos'), 3), (('NOUN', 'tyerra'), 3), (('ADJ', 'amariya'), 3), (('ADJ', 'kolay'), 3), (('VERB', 'ambezarme'), 3), (('NOUN', 'plazer'), 3), (('PRON', 'ti'), 3), (('NOUN', 'muzika'), 3), (('VERB', 'kome'), 3), (('VERB', 'komprando'), 3), (('VERB', 'se'), 3), (('ADJ', 'moendiz'), 3), (('PROPN', 'Miriam'), 3), (('ADV', 'Oy'), 3), (('NOUN', 'kriaturas'), 3), (('VERB', 'mora'), 3), (('DET', 'su'), 3), (('NOUN', 'akodro'), 3), (('NOUN', 'akordo'), 3), (('NUM', ','), 3), (('AUX', 'fue'), 3), (('VERB', 'Se'), 3), (('VERB', 'bivia'), 3), (('ADP', 'Donde'), 3), (('NOUN', 'dialekto'), 3), (('NOUN', 'armada'), 3), (('NOUN', 'flota'), 3), (('PRON', 'te'), 3), (('VERB', 'Tienes'), 3), (('NOUN', 'amigos'), 3), (('NOUN', 'teroristos'), 3), (('NOUN', 'livro'), 3), (('ADJ', 'intelijente'), 3), (('PRON', 'Dingunos'), 3), (('NOUN', 'kave'), 3), (('PRON', 'ainda'), 3), (('NOUN', 'problem'), 3), (('VERB', 'Tiene'), 3), (('VERB', 'indo'), 3), (('NOUN', 'banka'), 3), (('ADJ', 'chiko'), 3), (('ADJ', 'portugez'), 3), (('NOUN', 'ombres'), 3), (('PROPN', 'Donald'), 3), (('VERB', 'meldar'), 3), (('PROPN', 'chay'), 3), (('ADJ', 'ermozo'), 3), (('NOUN', 'perros'), 3), (('PRON', 'Deke'), 3), (('ADJ', 'similares'), 3), (('PROPN', 'Miri'), 3), (('NOUN', 'djudios'), 3), (('AUX', 'estava'), 3), (('DET', 'muestro'), 3), (('ADJ', 'sekular'), 3), (('PROPN', 'alegre'), 3), (('NOUN', 'puerta'), 3), (('ADJ', 'ermoza'), 3), (('PROPN', 'Gresia'), 3), (('PRON', 'Ken'), 3), (('VERB', 'Amo'), 3), (('ADJ', 'Ido'), 3), (('PROPN', 'yidish'), 3), (('ADJ', 'ashkenazi'), 3), (('ADJ', 'emportante'), 3), (('NOUN', 'mishpaha'), 3), (('PRON', 'Vos'), 3), (('VERB', 'yaman'), 2), (('PROPN', 'Bob'), 2), (('INTJ', 'Si'), 2), (('ADV', 'muncho'), 2), (('VERB', 'Sos'), 2), (('VERB', 'lavorando'), 2), (('VERB', 'Tyenes'), 2), (('VERB', 'gusta'), 2), (('VERB', 'Bivo'), 2), (('PROPN', 'Turkiya'), 2), (('VERB', 'vino'), 2), (('DET', 'sus'), 2), (('PROPN', 'tu'), 2), (('NOUN', 'madre'), 2), (('PROPN', 'Fransya'), 2), (('PROPN', 'Aki'), 2), (('NOUN', 'ladino'), 2), (('ADP', 'al'), 2), (('PROPN', 'Nadar'), 2), (('ADJ', 'fasil'), 2), (('NOUN', 'syelo'), 2), (('DET', 'Su'), 2), (('DET', 'Mis'), 2), (('DET', 'tyene'), 2), (('PROPN', 'perro'), 2), (('NOUN', 'ombre'), 2), (('PROPN', 'Buenas'), 2), (('NOUN', 'tadres'), 2), (('DET', 'Muncho'), 2), (('PROPN', 'Peki'), 2), (('PROPN', 'Estash'), 2), (('NOUN', 'ermana'), 2), (('PROPN', 'Merka'), 2), (('PROPN', 'Kompra'), 2), (('PROPN', 'Merkad'), 2), (('PROPN', 'Komprad'), 2), (('PROPN', 'Komprando'), 2), (('PROPN', 'Merkando'), 2), (('PRON', 'Kualo'), 2), (('NOUN', 'kapital'), 2), (('PRON', 'vos'), 2), (('VERB', 'moran'), 2), (('ADJ', 'okupadas'), 2), (('ADJ', 'okupados'), 2), (('NOUN', 'tio'), 2), (('NOUN', 'lavoresh'), 2), (('PRON', 'vozotros'), 2), (('VERB', 'Moramos'), 2), (('PROPN', 'Komi'), 2), (('ADV', 'Ayer'), 2), (('NOUN', 'djugeves'), 2), (('PRON', 'todo'), 2), (('NOUN', 'djueves'), 2), (('ADP', 'la'), 2), (('PRON', 'ken'), 2), (('ADV', 'Nunka'), 2), (('PRON', 'mozotros'), 2), (('PRON', 'Tienesh'), 2), (('VERB', 'Tienesh'), 2), (('PROPN', 'Madjaristan'), 2), (('VERB', 'atakaron'), 2), (('NOUN', 'mezkita'), 2), (('PROPN', 'Berlin'), 2), (('ADV', 'dunke'), 2), (('PRON', 'dunke'), 2), (('NOUN', 'egzisto'), 2), (('NOUN', 'fashisto'), 2), (('VERB', 'erguele'), 2), (('DET', 'todo'), 2), (('DET', 'Este'), 2), (('ADP', 'para'), 2), (('NOUN', 'elevos'), 2), (('PRON', 'sus'), 2), (('ADJ', 'maternal'), 2), (('ADJ', 'japonez'), 2), (('NOUN', 'mi'), 2), (('AUX', 'Puedes'), 2), (('NOUN', 'kastilyano'), 2), (('NOUN', 'jurnalisto'), 2), (('SCONJ', 'Komo'), 2), (('ADP', 'sin'), 2), (('NOUN', 'azete'), 2), (('ADJ', 'kayente'), 2), (('NOUN', 'virus'), 2), (('PROPN', 'Yohanan'), 2), (('NOUN', 'apoyo'), 2), (('DET', 'fue'), 2), (('NOUN', 'akumplido'), 2), (('VERB', 'estamos'), 2), (('NOUN', 'esperantistos'), 2), (('DET', 'muestros'), 2), (('ADP', 'por'), 2), (('NOUN', 'piratas'), 2), (('PROPN', 'Fransia'), 2), (('PROPN', 'Evropa'), 2), (('PROPN', 'Oksidentala'), 2), (('NOUN', 'normalidad'), 2), (('VERB', 'kantar'), 2), (('ADJ', 'mintirozo'), 2), (('ADJ', 'patolojiko'), 2), (('CCONJ', 'o'), 2), (('PRON', 'Mos'), 2), (('VERB', 'ambezimos'), 2), (('VERB', 'tenemos'), 2), (('ADV', 'nunka'), 2), (('ADJ', 'sufisiente'), 2), (('NOUN', 'tuya'), 2), (('PRON', 'vuestra'), 2), (('DET', 'Akeya'), 2), (('NOUN', 'reyna'), 2), (('AUX', 'deve'), 2), (('VERB', 'murir'), 2), (('PROPN', 'Beves'), 2), (('NOUN', 'vidas'), 2), (('NOUN', 'personas'), 2), (('VERB', 'son'), 2), (('VERB', 'emportantes'), 2), (('ADJ', 'ruso'), 2), (('PROPN', 'Tatoeba'), 2), (('PRON', 'la'), 2), (('VERB', 'sovrebiviremos'), 2), (('NOUN', 'djudaizmo'), 2), (('NOUN', 'Djudaismo'), 2), (('NOUN', 'ermozo'), 2), (('NOUN', 'gatos'), 2), (('NOUN', 'pishkado'), 2), (('VERB', 'Keremos'), 2), (('NOUN', 'puevlo'), 2), (('ADJ', 'anarkisto'), 2), (('PROPN', 'Karl'), 2), (('PROPN', 'Marx'), 2), (('NOUN', 'kuchiyo'), 2), (('PRON', 'yo'), 2), (('VERB', 'suisido'), 2), (('AUX', 'ay'), 2), (('ADJ', 'bohor'), 2), (('NOUN', 'italiano'), 2), (('NOUN', 'nona'), 2), (('VERB', 'egzistir'), 2), (('VERB', 'meldando'), 2), (('ADJ', 'feminista'), 2), (('ADJ', 'suzio'), 2), (('DET', 'mis'), 2), (('ADJ', 'riko'), 2), (('PROPN', 'Vozotros'), 2), (('NOUN', 'gerra'), 2), (('NOUN', 'musulmanos'), 2), (('ADJ', 'santa'), 2), (('NOUN', 'komunisto'), 2), (('VERB', 'Avre'), 2), (('NOUN', 'puertas'), 2), (('VERB', 'komparte'), 2), (('NOUN', 'frontieras'), 2), (('VERB', 'entender'), 2), (('VERB', 'Ladino'), 2), (('PROPN', 'pan'), 2), (('ADV', 'Bien'), 2), (('PROPN', 'avlash'), 2), (('AUX', 'semos'), 2), (('VERB', 'abandono'), 2), (('VERB', 'Avla'), 2), (('ADJ', 'temani'), 2), (('VERB', 'azer'), 2), (('NOUN', 'lavoros'), 2), (('ADJ', 'kaza'), 2), (('NOUN', 'alkunya'), 2), (('VERB', 'avrio'), 2), (('NOUN', 'serbio'), 2), (('PRON', 'Dinguno'), 2), (('NOUN', 'sosializmo'), 2), (('NOUN', 'Fuersa'), 2), (('PRON', 'este'), 2), (('PRON', 'Se'), 2), (('VERB', 'dize'), 2), (('PROPN', 'Austria'), 2), (('PROPN', 'Zamenhof'), 2), (('DET', 'Dingun'), 2), (('SYM', '\"'), 2), (('ADJ', 'haragan'), 2), (('PUNCT', '¡'), 1), (('NOUN', 'Venidos'), 1), (('ADJ', 'buenos'), 1), (('PROPN', 'Kim'), 1), (('VERB', 'bive'), 1), (('PROPN', 'Ken'), 1), (('PROPN', 'Ichiro'), 1), (('PROPN', 'Tanaka'), 1), (('PROPN', 'Wang'), 1), (('PROPN', 'Karen'), 1), (('PROPN', 'Smith'), 1), (('ADV', 'Ninguno'), 1), (('PRON', 'vino'), 1), (('ADJ', 'japanez'), 1), (('PROPN', 'María'), 1), (('PROPN', 'Teresa'), 1), (('NOUN', 'yakishikliya'), 1), (('VERB', 'avlar'), 1), (('PRON', 'eya'), 1), (('DET', 'Munchos'), 1), (('NOUN', 'kantes'), 1), (('ADJ', 'relijiozos'), 1), (('NOUN', 'Ladino'), 1), (('NOUN', 'traduksiones'), 1), (('NOUN', 'Ivrit'), 1), (('VERB', 'akodro'), 1), (('PRON', 'ke'), 1), (('VERB', 'komi'), 1), (('ADV', 'anoche'), 1), (('ADV', 'solo'), 1), (('VERB', 'kuzinar'), 1), (('NOUN', 'arroz'), 1), (('VERB', 'azes'), 1), (('VERB', 'reir'), 1), (('NOUN', 'mazalózo'), 1), (('ADJ', 'dobra'), 1), (('DET', 'este'), 1), (('NOUN', 'momento'), 1), (('ADJ', 'buena'), 1), (('NOUN', 'suerte'), 1), (('NOUN', 'mazalóza'), 1), (('NOUN', 'beisbol'), 1), (('PROPN', 'Ostralya'), 1), (('PROPN', 'Ninguno'), 1), (('PRON', 'Él'), 1), (('ADJ', 'uertolano'), 1), (('NOUN', 'Kamma'), 1), (('PROPN', 'Eskucha'), 1), (('NOUN', 'mama'), 1), (('VERB', 'gustava'), 1), (('VERB', 'kontar'), 1), (('NOUN', 'anekdotas'), 1), (('NOUN', 'konjelador'), 1), (('NOUN', 'garaj'), 1), (('NOUN', 'búto'), 1), (('DET', 'kada'), 1), (('NOUN', 'muerte'), 1), (('AUX', 'puedes'), 1), (('VERB', 'fiar'), 1), (('PRON', 'eyos'), 1), (('ADJ', 'ofisiala'), 1), (('PROPN', 'Israel'), 1), (('ADJ', 'moderno'), 1), (('VERB', 'skrivir'), 1), (('NOUN', 'artikulo'), 1), (('NOUN', 'kapitala'), 1), (('PROPN', 'Paris'), 1), (('NOUN', 'revista'), 1), (('ADJ', 'kulturala'), 1), (('ADJ', 'eskrita'), 1), (('VERB', 'Metiya'), 1), (('VERB', 'revolver'), 1), (('DET', 'lado'), 1), (('NOUN', 'kavesa'), 1), (('NOUN', 'kavayo'), 1), (('NOUN', 'animal'), 1), (('PROPN', 'John'), 1), (('DET', 'Sus'), 1), (('VERB', 'tyene'), 1), (('ADJ', 'mijor'), 1), (('NOUN', 'amigo'), 1), (('NOUN', 'muevas'), 1), (('ADJ', 'kozas'), 1), (('ADJ', 'antigas'), 1), (('VERB', 'Estó'), 1), (('NOUN', 'otel'), 1), (('ADJ', 'Peki'), 1), (('ADJ', 'livres'), 1), (('PROPN', 'Lavoro'), 1), (('PROPN', 'ti'), 1), (('AUX', 'Estó'), 1), (('VERB', 'Ambezamos'), 1), (('VERB', 'ambezamos'), 1), (('VERB', 'plazio'), 1), (('VERB', 'le'), 1), (('NOUN', 'tomates'), 1), (('INTJ', 'Merka'), 1), (('INTJ', 'Kompra'), 1), (('ADV', 'Merkad'), 1), (('ADV', 'Komprad'), 1), (('ADV', 'Komprando'), 1), (('ADV', 'Merkando'), 1), (('VERB', 'Merkamos'), 1), (('VERB', 'Kompramos'), 1), (('VERB', 'kompramos'), 1), (('VERB', 'merkamos'), 1), (('PROPN', 'Madagaskar'), 1), (('PROPN', 'Iowa'), 1), (('VERB', 'pasa'), 1), (('ADV', 'Dainda'), 1), (('VERB', 'tengo'), 1), (('PRON', 'nada'), 1), (('ADJ', 'komunista'), 1), (('ADJ', 'sosyalista'), 1), (('ADJ', 'fashista'), 1), (('VERB', 'antisemita'), 1), (('PROPN', 'Izo'), 1), (('VERB', 'inyeve'), 1), (('VERB', 'saliendo'), 1), (('NOUN', 'alhad'), 1), (('INTJ', 'Ayde'), 1), (('VERB', 'yamash'), 1), (('NOUN', 'lavores'), 1), (('AUX', 'Devo'), 1), (('VERB', 'trokar'), 1), (('NOUN', 'foto'), 1), (('NOUN', 'perfil'), 1), (('PROPN', 'Nu'), 1), (('PRON', 'Uno'), 1), (('NUM', 'tres'), 1), (('NUM', 'kuatro'), 1), (('NUM', 'sinko'), 1), (('NUM', 'sesh'), 1), (('NUM', 'siete'), 1), (('NUM', 'ocho'), 1), (('NUM', 'mueve'), 1), (('NUM', 'dies'), 1), (('ADJ', 'interlingua'), 1), (('ADP', 'Kon'), 1), (('ADJ', 'inosente'), 1), (('VERB', 'morava'), 1), (('VERB', 'Mirava'), 1), (('ADP', 'el'), 1), (('NOUN', 'estreyeriya'), 1), (('AUX', 'sos'), 1), (('PRON', 'sos'), 1), (('AUX', 'sosh'), 1), (('VERB', 'Dio'), 1), (('ADP', 'te'), 1), (('NOUN', 'mate'), 1), (('PRON', 'Sos'), 1), (('DET', 'Otro'), 1), (('ADJ', 'posivle'), 1), (('PROPN', 'Dime'), 1), (('ADJ', 'andas'), 1), (('CCONJ', ','), 1), (('VERB', 'dire'), 1), (('PROPN', 'sos'), 1), (('NOUN', 'proprieta'), 1), (('NOUN', 'ladronisyo'), 1), (('PRON', 'poko'), 1), (('NOUN', 'arabo'), 1), (('PROPN', 'Bushka'), 1), (('VERB', 'Gozo'), 1), (('NOUN', 'soledad'), 1), (('PROPN', 'Sosh'), 1), (('ADJ', 'feliches'), 1), (('ADJ', 'dulse'), 1), (('VERB', 'aborrese'), 1), (('NOUN', 'ajenos'), 1), (('PROPN', 'Kanti'), 1), (('PROPN', 'Shalom'), 1), (('VERB', 'ambre'), 1), (('VERB', 'fambre'), 1), (('PUNCT', 'Tienesh'), 1), (('PROPN', 'India'), 1), (('PROPN', 'Almania'), 1), (('PROPN', 'kalem'), 1), (('NOUN', 'lonso'), 1), (('VERB', 'pasaran'), 1), (('NOUN', 'Fiestas'), 1), (('ADJ', 'alegres'), 1), (('NOUN', 'agua'), 1), (('DET', 'atakaron'), 1), (('NOUN', 'djami'), 1), (('NOUN', 'mishkita'), 1), (('PUNCT', 'Vozotros'), 1), (('PROPN', 'estash'), 1), (('VERB', 'Desparesyeron'), 1), (('ADJ', 'egzisto'), 1), (('ADJ', 'uniko'), 1), (('ADJ', 'fashisto'), 1), (('NOUN', 'bueno'), 1), (('ADJ', 'muerto'), 1), (('NOUN', 'puerpo'), 1), (('NOUN', 'kuerpo'), 1), (('ADJ', 'Madjar'), 1), (('PROPN', 'Universo'), 1), (('NOUN', 'misterio'), 1), (('PROPN', 'Eyas'), 1), (('PROPN', 'Kazate'), 1), (('AUX', 'Podes'), 1), (('VERB', 'Avlo'), 1), (('AUX', 'Eyos'), 1), (('PROPN', 'Millie'), 1), (('VERB', 'savran'), 1), (('PROPN', 'Dingunos'), 1), (('VERB', 'vinieron'), 1), (('VERB', 'saven'), 1), (('VERB', 'murieron'), 1), (('ADV', 'Dingunos'), 1), (('PRON', 'murieron'), 1), (('VERB', 'dishites'), 1), (('NOUN', 'jurnalista'), 1), (('ADJ', 'desnudo'), 1), (('VERB', 'Teniamos'), 1), (('VERB', 'agrada'), 1), (('NOUN', 'espanyoles'), 1), (('VERB', 'tienen'), 1), (('NOUN', 'alkunyas'), 1), (('ADJ', 'peor'), 1), (('NOUN', 'kapitalizmo'), 1), (('ADV', 'Ainda'), 1), (('AUX', 'estas'), 1), (('VERB', 'estash'), 1), (('PRON', 'estash'), 1), (('AUX', 'Yo'), 1), (('PRON', 'Lo'), 1), (('VERB', 'kavzar'), 1), (('NOUN', 'kestion'), 1), (('ADJ', 'delikada'), 1), (('VERB', 'tuvo'), 1), (('VERB', 'buto'), 1), (('VERB', 'objektivo'), 1), (('DET', 'Me'), 1), (('AUX', 'Mos'), 1), (('PROPN', 'Bevi'), 1), (('NOUN', 'kuanto'), 1), (('VERB', 'kije'), 1), (('NOUN', 'pirata'), 1), (('NOUN', 'haveres'), 1), (('NOUN', 'lavoro'), 1), (('ADJ', 'libera'), 1), (('PUNCT', 'Fuimos'), 1), (('ADJ', 'atakados'), 1), (('ADJ', 'krueles'), 1), (('AUX', 'Estava'), 1), (('VERB', 'kantando'), 1), (('NOUN', 'karne'), 1), (('VERB', 'aboltaremos'), 1), (('SCONJ', 'porke'), 1), (('VERB', 'merkar'), 1), (('AUX', 'Ven'), 1), (('NOUN', 'Avlas'), 1), (('VERB', 'yoran'), 1), (('ADJ', 'mentirozo'), 1), (('NOUN', 'djenio'), 1), (('ADJ', 'estavle'), 1), (('VERB', 'lavorar'), 1), (('NOUN', 'natura'), 1), (('ADJ', 'fasinante'), 1), (('PROPN', 'Aborresko'), 1), (('NOUN', 'ipokritas'), 1), (('AUX', \"M'esto\"), 1), (('PROPN', 'Bevesh'), 1), (('NOUN', 'vestido'), 1), (('NOUN', 'meza'), 1), (('NOUN', 'arvole'), 1), (('NOUN', 'monte'), 1), (('AUX', 'arvole'), 1), (('ADJ', 'pretas'), 1), (('ADJ', 'palestinianas'), 1), (('VERB', 'favla'), 1), (('DET', 'Ke'), 1), (('NOUN', 'dishitesh'), 1), (('AUX', 'Podesh'), 1), (('VERB', 'eskrivir'), 1), (('VERB', 'kualkiera'), 1), (('DET', 'todas'), 1), (('ADJ', 'iguales'), 1), (('NOUN', 'sangre'), 1), (('PRON', 'tuya'), 1), (('NOUN', 'satan'), 1), (('PRON', 'Los'), 1), (('NOUN', 'diavlo'), 1), (('ADJ', 'puerkos'), 1), (('ADJ', 'intelijentes'), 1), (('VERB', 'asumo'), 1), (('DET', 'dinguna'), 1), (('NOUN', 'responsabilidad'), 1), (('ADJ', 'mijores'), 1), (('NOUN', 'biervos'), 1), (('NOUN', 'chiko'), 1), (('NOUN', 'boka'), 1), (('NOUN', 'serada'), 1), (('VERB', 'entra'), 1), (('NOUN', 'moshka'), 1), (('NOUN', 'solusion'), 1), (('ADJ', 'pasifika'), 1), (('VERB', 'derrokar'), 1), (('NOUN', 'rejimen'), 1), (('PRON', 'Todas'), 1), (('NOUN', 'papa'), 1), (('NOUN', 'kriansas'), 1), (('ADJ', 'novles'), 1), (('SCONJ', 'Kuando'), 1), (('PRON', 'Kuando'), 1), (('PROPN', 'Kabilia'), 1), (('NOUN', 'renares'), 1), (('NOUN', 'espanyol'), 1), (('VERB', 'rovo'), 1), (('NOUN', 'kalsados'), 1), (('NOUN', 'djente'), 1), (('ADV', 'tan'), 1), (('ADJ', 'bova'), 1), (('NOUN', 'mozotras'), 1), (('VERB', 'Bivimos'), 1), (('NOUN', 'sosiedad'), 1), (('NOUN', 'papiyones'), 1), (('VERB', 'ir'), 1), (('DET', 'Un'), 1), (('NOUN', 'papiyon'), 1), (('NOUN', 'provedad'), 1), (('NOUN', 'flores'), 1), (('ADJ', 'amariyas'), 1), (('INTJ', 'Grasias'), 1), (('NOUN', 'Grasias'), 1), (('PROPN', 'Ambezas'), 1), (('PROPN', 'Ambezo'), 1), (('NOUN', 'Avlash'), 1), (('VERB', 'enviti'), 1), (('VERB', 'kreo'), 1), (('ADJ', 'djudios'), 1), (('NOUN', 'veros'), 1), (('VERB', 'djugando'), 1), (('NOUN', 'libertad'), 1), (('NOUN', 'veo'), 1), (('PROPN', 'Stephen'), 1), (('PROPN', 'Miller'), 1), (('NOUN', 'nasionalisto'), 1), (('ADJ', 'blanko'), 1), (('PRON', 'Eyas'), 1), (('VERB', 'kompran'), 1), (('NOUN', 'sovrebiviente'), 1), (('PROPN', 'olokosto'), 1), (('VERB', 'estan'), 1), (('NOUN', 'djenitores'), 1), (('NOUN', 'reskapada'), 1), (('PROPN', 'Shoa'), 1), (('NOUN', 'malato'), 1), (('ADJ', 'manseva'), 1), (('PROPN', 'Yaakov'), 1), (('ADJ', 'merkash'), 1), (('VERB', 'Teman'), 1), (('SCONJ', 'kale'), 1), (('VERB', 'akavar'), 1), (('VERB', 'puedo'), 1), (('VERB', 'akodrar'), 1), (('PUNCT', 'Hanuka'), 1), (('DET', 'Tu'), 1), (('NOUN', 'kompras'), 1), (('ADJ', 'pan'), 1), (('NOUN', 'Milyones'), 1), (('AUX', 'pueden'), 1), (('VERB', 'visitar'), 1), (('PROPN', 'Dario'), 1), (('NOUN', 'informasion'), 1), (('ADJ', 'pertinente'), 1), (('VERB', 'melda'), 1), (('PROPN', 'Portugal'), 1), (('NOUN', 'prinsipado'), 1), (('PROPN', 'de'), 1), (('PROPN', 'Andorra'), 1), (('NOUN', 'kolonia'), 1), (('ADJ', 'britanika'), 1), (('PROPN', 'Jibraltar'), 1), (('DET', 'tierras'), 1), (('NOUN', 'de'), 1), (('ADJ', 'pais'), 1), (('NOUN', 'afrikanos'), 1), (('ADJ', 'terrestres'), 1), (('NOUN', 'maritimas'), 1), (('PROPN', 'Marroko'), 1), (('NOUN', 'golor'), 1), (('VERB', 'sedro'), 1), (('ADP', 'arrepusha'), 1), (('NOUN', 'poliyas'), 1), (('PUNCT', 'Eya'), 1), (('ADJ', 'italiana'), 1), (('PROPN', 'Favlash'), 1), (('ADV', 'tambien'), 1), (('DET', 'estas'), 1), (('NOUN', 'viniendo'), 1), (('PROPN', 'Australia'), 1), (('PROPN', 'Koran'), 1), (('VERB', 'menester'), 1), (('NOUN', 'grasias'), 1), (('PROPN', 'Vozotras'), 1), (('PROPN', 'Ladino'), 1), (('PUNCT', 'Pesah'), 1), (('PROPN', 'Rahel'), 1), (('NOUN', 'enemigos'), 1), (('PROPN', 'Dilshad'), 1), (('PROPN', 'Bramar'), 1), (('ADJ', 'sefaradi'), 1), (('NOUN', 'Islam'), 1), (('VERB', 'Kompran'), 1), (('PROPN', 'Avrid'), 1), (('ADJ', 'tradjuman'), 1), (('PROPN', 'Estudio'), 1), (('ADJ', 'musulmana'), 1), (('NOUN', 'palestinianos'), 1), (('NOUN', 'seres'), 1), (('ADJ', 'umanos'), 1), (('NOUN', 'elevo'), 1), (('ADJ', 'aedado'), 1), (('DET', 'muestra'), 1), (('NOUN', 'klasa'), 1), (('NOUN', 'mersi'), 1), (('PROPN', 'Avlas'), 1), (('VERB', 'merka'), 1), (('PROPN', 'Ling'), 1), (('VERB', 'Meldamos'), 1), (('DET', 'dingun'), 1), (('ADJ', 'dio'), 1), (('ADJ', 'palestiniano'), 1), (('DET', 'otro'), 1), (('ADJ', 'aborresido'), 1), (('NOUN', 'komunistas'), 1), (('VERB', 'eskrivia'), 1), (('PROPN', 'bevo'), 1), (('ADV', 'aya'), 1), (('PUNCT', 'Puedésh'), 1), (('NOUN', 'filozofo'), 1), (('VERB', 'kreia'), 1), (('ADJ', 'tala'), 1), (('NOUN', 'koza'), 1), (('AUX', 'podria'), 1), (('VERB', 'afitar'), 1), (('NOUN', 'fenisio'), 1), (('ADJ', 'kananitas'), 1), (('NOUN', 'djudeo-espanyol'), 1), (('PROPN', 'Ukraina'), 1), (('ADJ', 'linda'), 1), (('PROPN', 'Avres'), 1), (('VERB', 'lavora'), 1), (('NOUN', 'ospital'), 1), (('ADJ', 'Amhariko'), 1), (('PROPN', 'prezidente'), 1), (('VERB', 'impopular'), 1), (('ADV', 'pertinente'), 1), (('ADJ', 'tardjuman'), 1), (('ADJ', 'buenas'), 1), (('NOUN', 'ideas'), 1), (('PRON', 'eskrivio'), 1), (('PRON', 'esto'), 1), (('ADJ', 'buen'), 1), (('PROPN', 'Konfusio'), 1), (('ADJ', 'semitikas'), 1), (('ADJ', 'kansados'), 1), (('NOUN', 'antisemitizmo'), 1), (('NOUN', 'bovos'), 1), (('PROPN', 'Favlo'), 1), (('NOUN', 'paz'), 1), (('PRON', 'Eso'), 1), (('ADJ', 'enemigas'), 1), (('VERB', 'izo'), 1), (('VERB', 'ti'), 1), (('PUNCT', 'ti'), 1), (('ADV', 'Ya'), 1), (('AUX', 'puede'), 1), (('VERB', 'ferir'), 1), (('NOUN', 'komunita'), 1), (('VERB', 'keria'), 1), (('VERB', 'ver'), 1), (('PROPN', 'Gales'), 1), (('VERB', 'moro'), 1), (('ADJ', 'loko'), 1), (('PUNCT', '¿'), 1), (('ADJ', 'shekel'), 1), (('PROPN', 'Putin'), 1), (('VERB', 'komio'), 1), (('NOUN', 'salata'), 1), (('NOUN', 'roza'), 1), (('VERB', 'yevo'), 1), (('PRON', 'Yimah'), 1), (('NOUN', 'shemo'), 1), (('ADJ', 'alman'), 1), (('ADP', 'Durante'), 1), (('NOUN', 'viaje'), 1), (('PROPN', 'Salonika'), 1), (('VERB', 'vimos'), 1), (('PROPN', 'Ataturk'), 1), (('PROPN', 'Ankara'), 1), (('PROPN', 'Turkia'), 1), (('VERB', 'Mashala'), 1), (('VERB', 'Moro'), 1), (('PROPN', 'Etiopia'), 1), (('VERB', 'ambezarse'), 1), (('ADJ', 'fermoza'), 1), (('NOUN', 'makina'), 1), (('PROPN', 'mata'), 1), (('NOUN', 'fashistos'), 1), (('ADJ', 'borrachos'), 1), (('NOUN', 'eros'), 1), (('PROPN', 'ensenya'), 1), (('PROPN', 'ebreo'), 1), (('PROPN', 'Viena'), 1), (('AUX', 'Ay'), 1), (('NOUN', 'koalas'), 1), (('PRON', 'moramos'), 1), (('VERB', 'aya'), 1), (('PROPN', 'Hitler'), 1), (('VERB', 'aborresia'), 1), (('ADJ', 'linguas'), 1), (('ADJ', 'romanzes'), 1), (('ADJ', 'djermanikas'), 1), (('VERB', 'disho'), 1), (('NOUN', 'komentarios'), 1), (('ADJ', 'rasistos'), 1), (('PROPN', 'Benjamin'), 1), (('PROPN', 'Netanyahu'), 1), (('NOUN', 'enemigo'), 1), (('VERB', 'estudiando'), 1), (('PROPN', 'Hana'), 1), (('ADJ', 'reformista'), 1), (('PROPN', 'Mateo'), 1), (('NOUN', 'kristiano'), 1), (('PROPN', 'djudeo-espanyol'), 1), (('PROPN', 'djudio'), 1), (('PROPN', 'djudezmo'), 1), (('ADJ', 'favlada'), 1), (('ADJ', 'sefardim'), 1), (('ADJ', 'ekspulsados'), 1), (('PREP', 'en'), 1), (('NOUN', '1492'), 1), (('NOUN', 'gregos'), 1), (('NOUN', 'sivdadano'), 1), (('ADJ', 'kabil'), 1), (('VERB', 'mintir'), 1), (('VERB', 'konsidero'), 1), (('DET', 'komo'), 1), (('PROPN', 'Rusia'), 1), (('PROPN', 'Beirut'), 1), (('PROPN', 'Levanon'), 1), (('NOUN', 'turkos'), 1), (('NOUN', 'kurdos'), 1), (('NOUN', 'ermanos'), 1), (('VERB', 'Avlamos'), 1), (('NOUN', 'kabil'), 1), (('NOUN', 'kabilios'), 1), (('PROPN', 'kabil'), 1), (('NOUN', 'reaksionario'), 1), (('NOUN', 'robot'), 1), (('PRON', 'ambezates'), 1), (('ADJ', 'kastilyano'), 1), (('PROPN', 'Noel'), 1), (('NOUN', 'fiesta'), 1), (('PROPN', 'Mark'), 1), (('VERB', 'kree'), 1), (('PROPN', 'Djafar'), 1), (('NOUN', 'Kabil'), 1), (('NOUN', 'kapitalisto'), 1), (('NOUN', 'galut'), 1), (('NOUN', 'egzilio'), 1), (('NOUN', 'komunistos'), 1), (('PROPN', 'Bret'), 1), (('PROPN', 'Stephens'), 1), (('NOUN', 'chincha'), 1), (('AUX', 'estuvo'), 1), (('DET', 'Kuantos'), 1), (('VERB', 'djugar'), 1), (('ADJ', 'fatigados'), 1), (('ADJ', 'palestiniana'), 1), (('PUNCT', 'Puedo'), 1), (('AUX', 'asentarme'), 1), (('ADV', 'detras'), 1), (('NOUN', 'palavra'), 1), (('NOUN', 'biervo'), 1), (('VERB', 'eskuchando'), 1), (('NOUN', 'madjar'), 1), (('NOUN', 'turko'), 1), (('NOUN', 'terminos'), 1), (('NOUN', 'gramatika'), 1), (('NOUN', 'gatiko'), 1), (('ADJ', 'fuerte'), 1), (('PRON', 'Kero'), 1), (('DET', 'vuestra'), 1), (('AUX', 'Podemos'), 1), (('VERB', 'ayudar'), 1), (('ADJ', 'kansado'), 1), (('ADJ', 'kansada'), 1), (('ADJ', 'mala'), 1), (('ADJ', 'araba'), 1), (('NOUN', 'estado'), 1), (('ADP', 'derecho'), 1), (('NOUN', 'ser'), 1), (('ADJ', 'umano'), 1), (('ADJ', 'ilegal'), 1), (('NOUN', 'nasion'), 1), (('ADJ', 'independente'), 1), (('NOUN', 'hazino'), 1), (('ADJ', 'reushir'), 1), (('NOUN', 'israelis'), 1), (('NOUN', 'israelianos'), 1), (('DET', 'todos'), 1), (('PROPN', 'djudios'), 1), (('AUX', 'Otro'), 1), (('DET', 'posivle'), 1), (('PUNCT', 'Nevruz'), 1), (('CCONJ', 'Afilu'), 1), (('NOUN', 'peores'), 1), (('ADJ', 'egzemplos'), 1), (('NOUN', 'kultura'), 1), (('NOUN', 'kanselasion'), 1), (('VERB', 'aserkan'), 1), (('NOUN', 'fraksion'), 1), (('NOUN', 'males'), 1), (('PROPN', 'Inkisizion'), 1), (('NOUN', 'vedra'), 1), (('DET', 'Kada'), 1), (('DET', 'Esto'), 1), (('AUX', 'akorruto'), 1), (('ADJ', 'deprimido'), 1), (('NOUN', 'pas'), 1), (('ADJ', 'omofoba'), 1), (('VERB', 'aborese'), 1), (('PRON', 'si'), 1), (('DET', 'mizmo'), 1), (('PUNCT', 'Kaminos'), 1), (('ADJ', 'leche'), 1), (('NOUN', 'miel'), 1), (('ADJ', 'anarkista'), 1), (('PRON', 'los'), 1)]\n"
     ]
    }
   ],
   "source": [
    "verify_results = False\n",
    "\n",
    "\"\"\"\n",
    "Count tags, tag transitions, and emissions of words to create the proper probability tables:\n",
    "P(Tag)\n",
    "P(Tag_{i} | Tag_{i-1})\n",
    "P(Word | Tag)\n",
    "\"\"\"\n",
    "def create_count_dictionaries(data):\n",
    "    tag_counts = {} # P(Tag)\n",
    "    tag_transition_counts = {} # P(Tag_{i} | Tag_{i-1})\n",
    "    emission_counts = {} # P(Word | Tag)\n",
    "    # go through each sentence in the data\n",
    "    for sentence in data:\n",
    "        tags_sequence = [word.get_pos() for word in sentence]\n",
    "        words_sequence = [word.get_word() for word in sentence]\n",
    "        prev_tag = \"<s>\" # all sentences start with delimiter\n",
    "        # go through each word and tag\n",
    "        for word, tag in zip(words_sequence, tags_sequence):\n",
    "            # P(Tag)\n",
    "            tag_counts[tag] = tag_counts.get(tag, 0) + 1\n",
    "\n",
    "            # P(Tag_{i} | Tag_{i-1})\n",
    "            tag_transition = (prev_tag, tag) # make key to indicate transitioning from the previous tag to current\n",
    "            tag_transition_counts[tag_transition] = tag_transition_counts.get(tag_transition, 0) + 1\n",
    "            prev_tag = tag\n",
    "\n",
    "            # P(Word | Tag)\n",
    "            emission = (tag, word)\n",
    "            emission_counts[emission] = emission_counts.get(emission, 0) + 1\n",
    "        \n",
    "        # P(Tag_{i} | Tag_{i-1}) only for the end of the sentence\n",
    "        tag_transition = (prev_tag, \"<s/>\") # all sentences end with delimiter\n",
    "        tag_counts[tag_transition] = tag_transition_counts.get(tag_transition, 0) + 1\n",
    "    return tag_counts, tag_transition_counts, emission_counts\n",
    "\n",
    "tag_counts, tag_transition_counts, emission_counts = create_count_dictionaries(weak_tags)\n",
    "\n",
    "if verify_results:\n",
    "    tag_counts = sorted(tag_counts.items(), key=lambda item: item[1], reverse=True)\n",
    "    tag_transition_counts = sorted(tag_transition_counts.items(), key=lambda item: item[1], reverse=True)\n",
    "    emission_counts = sorted(emission_counts.items(), key=lambda item: item[1], reverse=True)\n",
    "    print(tag_counts)\n",
    "    print(tag_transition_counts)\n",
    "    print(emission_counts)\n"
   ]
  }
 ],
 "metadata": {
  "kernelspec": {
   "display_name": "Python 3",
   "language": "python",
   "name": "python3"
  },
  "language_info": {
   "codemirror_mode": {
    "name": "ipython",
    "version": 3
   },
   "file_extension": ".py",
   "mimetype": "text/x-python",
   "name": "python",
   "nbconvert_exporter": "python",
   "pygments_lexer": "ipython3",
   "version": "3.10.12"
  }
 },
 "nbformat": 4,
 "nbformat_minor": 2
}
