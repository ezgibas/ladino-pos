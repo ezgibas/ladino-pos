{
 "cells": [
  {
   "cell_type": "code",
   "execution_count": null,
   "metadata": {},
   "outputs": [],
   "source": [
    "import sys\n",
    "import os\n",
    "\n",
    "# Add the scripts folder to the Python path\n",
    "sys.path.append(os.path.abspath(\"../scripts\"))  # Adjust the path accordingly"
   ]
  },
  {
   "cell_type": "code",
   "execution_count": null,
   "metadata": {},
   "outputs": [],
   "source": [
    "! pip install -U nltk"
   ]
  },
  {
   "cell_type": "code",
   "execution_count": null,
   "metadata": {},
   "outputs": [],
   "source": [
    "from load_preprocessed_data import load_ladino_pos\n",
    "\n",
    "weak_dataset_file_path = '../data/weak/ladino-pos.txt'\n",
    "weak_tags, weak_tags_dict = load_ladino_pos(weak_dataset_file_path) # import ladino tokens into custom data definition"
   ]
  },
  {
   "cell_type": "code",
   "execution_count": null,
   "metadata": {},
   "outputs": [],
   "source": [
    "# check it worked\n",
    "for item in weak_tags[0]:\n",
    "    print(item)"
   ]
  },
  {
   "cell_type": "code",
   "execution_count": null,
   "metadata": {},
   "outputs": [],
   "source": [
    "import nltk\n",
    "\n",
    "def trainer():\n",
    "    tagged_sentences = weak_tags\n",
    "    formatted_sentences = [[(token.get_word(), token.get_pos()) for token in sentence] for sentence in tagged_sentences]\n",
    "    words = [token.get_word() for sentence in tagged_sentences for token in sentence]\n",
    "    tags = [token.get_pos() for sentence in tagged_sentences for token in sentence]\n",
    "    trainer = nltk.tag.hmm.HiddenMarkovModelTrainer(states=tags, symbols=words)\n",
    "    hmm_tagger = trainer.train_supervised(formatted_sentences, estimator=None)\n",
    "    return hmm_tagger\n",
    "\n",
    "hmm_tagger = trainer()"
   ]
  },
  {
   "cell_type": "code",
   "execution_count": null,
   "metadata": {},
   "outputs": [],
   "source": []
  }
 ],
 "metadata": {
  "kernelspec": {
   "display_name": "Python 3",
   "language": "python",
   "name": "python3"
  },
  "language_info": {
   "codemirror_mode": {
    "name": "ipython",
    "version": 3
   },
   "file_extension": ".py",
   "mimetype": "text/x-python",
   "name": "python",
   "nbconvert_exporter": "python",
   "pygments_lexer": "ipython3",
   "version": "3.10.12"
  }
 },
 "nbformat": 4,
 "nbformat_minor": 2
}
