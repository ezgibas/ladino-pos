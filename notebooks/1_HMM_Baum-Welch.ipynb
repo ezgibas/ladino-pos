{
 "cells": [
  {
   "cell_type": "code",
   "execution_count": null,
   "metadata": {},
   "outputs": [],
   "source": [
    "import sys\n",
    "import os\n",
    "\n",
    "# Add the scripts folder to the Python path\n",
    "sys.path.append(os.path.abspath(\"../scripts\"))  # Adjust the path accordingly"
   ]
  },
  {
   "cell_type": "code",
   "execution_count": null,
   "metadata": {},
   "outputs": [],
   "source": [
    "import pandas as pd\n",
    "import numpy as np\n",
    "import pickle\n",
    "from load_data import *\n",
    "from preprocessing import *"
   ]
  },
  {
   "cell_type": "markdown",
   "metadata": {},
   "source": [
    "# Load Data from File"
   ]
  },
  {
   "cell_type": "code",
   "execution_count": null,
   "metadata": {},
   "outputs": [],
   "source": [
    "train, test = load_brown_data(\"../data/brown-universal.txt\", split=0.8)\n",
    "tags = load_tags(\"../data/tags-universal.txt\")"
   ]
  },
  {
   "cell_type": "code",
   "execution_count": null,
   "metadata": {},
   "outputs": [],
   "source": [
    "print(\"There are {} sentences in the training set.\".format(len(train)))\n",
    "print(\"There are {} sentences in the testing set.\".format(len(test)))"
   ]
  },
  {
   "cell_type": "code",
   "execution_count": null,
   "metadata": {},
   "outputs": [],
   "source": [
    "# partition train so only a few of the samples are used for the initial probabilities\n",
    "train_sample = train"
   ]
  },
  {
   "cell_type": "code",
   "execution_count": null,
   "metadata": {},
   "outputs": [],
   "source": [
    "words = []\n",
    "train_sentences = []\n",
    "for sentence in train_sample:\n",
    "    train_sentence = []\n",
    "    for token in sentence:\n",
    "        word = token.get_word()\n",
    "        if word == '``' or word == \"''\":\n",
    "            word = '\"'\n",
    "        words.append(word)\n",
    "        train_sentence.append(word)\n",
    "        \n",
    "            \n",
    "    train_sentences.append(train_sentence)"
   ]
  },
  {
   "cell_type": "markdown",
   "metadata": {},
   "source": [
    "# Baum-Welch Algorithm"
   ]
  },
  {
   "cell_type": "markdown",
   "metadata": {},
   "source": [
    "Note that the code for train_em and baum_welch were written using NLTK's open-source code as a reference, which can be found here https://www.nltk.org/api/nltk.tag.hmm.html"
   ]
  },
  {
   "cell_type": "code",
   "execution_count": null,
   "metadata": {},
   "outputs": [],
   "source": [
    "from baum_welch import *"
   ]
  },
  {
   "cell_type": "code",
   "execution_count": null,
   "metadata": {},
   "outputs": [],
   "source": [
    "bw_tagger = BaumWelch(tags, words)"
   ]
  },
  {
   "cell_type": "code",
   "execution_count": null,
   "metadata": {},
   "outputs": [],
   "source": [
    "num_samples = len(train_sentences)\n",
    "batch_size = 50\n",
    "batch_start = 0\n",
    "batch_end = batch_size\n",
    "done = False\n",
    "while not done:\n",
    "    bw_tagger.train_em(train_sentences[batch_start:batch_end], max_iterations=100)\n",
    "    batch_start = batch_end\n",
    "    if batch_start >= num_samples:\n",
    "        done = True\n",
    "    else:\n",
    "        batch_end = min(batch_start + batch_size, num_samples)\n",
    "    if batch_end == num_samples:\n",
    "        done = True"
   ]
  },
  {
   "cell_type": "code",
   "execution_count": null,
   "metadata": {},
   "outputs": [],
   "source": [
    "bw_tagger.save_hmm()"
   ]
  }
 ],
 "metadata": {
  "kernelspec": {
   "display_name": "Python 3",
   "language": "python",
   "name": "python3"
  },
  "language_info": {
   "codemirror_mode": {
    "name": "ipython",
    "version": 3
   },
   "file_extension": ".py",
   "mimetype": "text/x-python",
   "name": "python",
   "nbconvert_exporter": "python",
   "pygments_lexer": "ipython3",
   "version": "3.10.12"
  }
 },
 "nbformat": 4,
 "nbformat_minor": 2
}
