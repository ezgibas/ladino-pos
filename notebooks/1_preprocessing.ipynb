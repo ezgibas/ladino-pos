{
 "cells": [
  {
   "cell_type": "markdown",
   "metadata": {},
   "source": [
    "file paths"
   ]
  },
  {
   "cell_type": "code",
   "execution_count": null,
   "metadata": {},
   "outputs": [],
   "source": [
    "ladino_file_path = './data/tatoeba.spa-lad.lad'\n",
    "spanish_file_path = './data/tatoeba.spa-lad.spa'"
   ]
  },
  {
   "cell_type": "markdown",
   "metadata": {},
   "source": [
    "convert files into python list"
   ]
  },
  {
   "cell_type": "code",
   "execution_count": null,
   "metadata": {},
   "outputs": [],
   "source": [
    "with open(ladino_file_path, \"r\", encoding=\"utf-8\") as file:\n",
    "    ladino_data = file.read().splitlines()\n",
    "\n",
    "with open(spanish_file_path, \"r\", encoding=\"utf-8\") as file:\n",
    "    spanish_data = file.read().splitlines()"
   ]
  },
  {
   "cell_type": "code",
   "execution_count": null,
   "metadata": {},
   "outputs": [],
   "source": []
  }
 ],
 "metadata": {
  "kernelspec": {
   "display_name": "Python 3",
   "language": "python",
   "name": "python3"
  },
  "language_info": {
   "name": "python",
   "version": "3.10.12"
  }
 },
 "nbformat": 4,
 "nbformat_minor": 2
}
