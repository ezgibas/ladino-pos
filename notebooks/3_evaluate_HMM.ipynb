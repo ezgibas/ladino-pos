{
 "cells": [
  {
   "cell_type": "code",
   "execution_count": null,
   "metadata": {},
   "outputs": [],
   "source": [
    "import sys\n",
    "import os\n",
    "\n",
    "# Add the scripts folder to the Python path\n",
    "sys.path.append(os.path.abspath(\"../scripts\"))  # Adjust the path accordingly"
   ]
  },
  {
   "cell_type": "code",
   "execution_count": null,
   "metadata": {},
   "outputs": [],
   "source": [
    "import pandas as pd\n",
    "import numpy as np"
   ]
  },
  {
   "cell_type": "code",
   "execution_count": null,
   "metadata": {},
   "outputs": [],
   "source": [
    "def compute_accuracy(actual, target):\n",
    "    \"\"\"Compute accuracy of guesses comparing to target data.\n",
    "    actual: guesses from the model\n",
    "    target: values from the test/validation set\n",
    "    \"\"\"\n",
    "    if len(actual) != len(target):\n",
    "        return -1 # the number of actual values should match number of target values\n",
    "    correct_count = 0\n",
    "    for actual_value, target_value in zip(actual, target):\n",
    "        if actual_value == target_value:\n",
    "            correct_count += 1\n",
    "    return correct_count/len(actual)"
   ]
  },
  {
   "cell_type": "code",
   "execution_count": null,
   "metadata": {},
   "outputs": [],
   "source": [
    "from datasets import load_dataset\n",
    "\n",
    "unlabeled_data = load_dataset(\"collectivat/salom-ladino-articles\")['train']\n",
    "validate = unlabeled_data[10301:10500]['text']\n",
    "test = unlabeled_data[10501:10685]['text']\n",
    "\n",
    "validate = [sentence.split() for sentence in validate]\n",
    "test = [sentence.split() for sentence in test]"
   ]
  },
  {
   "cell_type": "code",
   "execution_count": null,
   "metadata": {},
   "outputs": [],
   "source": [
    "import hmm\n",
    "\n",
    "hmm_tagger = hmm.HMMTagger.load_hmm(\"../results/hmm_tagger.pkl\")\n",
    "\n",
    "for sentence in test[10:20]:\n",
    "    result = hmm_tagger.viterbi(sentence)\n",
    "    print(sentence)\n",
    "    print(result)"
   ]
  }
 ],
 "metadata": {
  "kernelspec": {
   "display_name": "Python 3",
   "language": "python",
   "name": "python3"
  },
  "language_info": {
   "codemirror_mode": {
    "name": "ipython",
    "version": 3
   },
   "file_extension": ".py",
   "mimetype": "text/x-python",
   "name": "python",
   "nbconvert_exporter": "python",
   "pygments_lexer": "ipython3",
   "version": "3.10.12"
  }
 },
 "nbformat": 4,
 "nbformat_minor": 2
}
