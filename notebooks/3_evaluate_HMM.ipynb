{
 "cells": [
  {
   "cell_type": "code",
   "execution_count": null,
   "metadata": {},
   "outputs": [],
   "source": [
    "import sys\n",
    "import os\n",
    "\n",
    "# Add the scripts folder to the Python path\n",
    "sys.path.append(os.path.abspath(\"../scripts\"))  # Adjust the path accordingly"
   ]
  },
  {
   "cell_type": "code",
   "execution_count": null,
   "metadata": {},
   "outputs": [],
   "source": [
    "import pandas as pd\n",
    "import numpy as np"
   ]
  },
  {
   "cell_type": "code",
   "execution_count": null,
   "metadata": {},
   "outputs": [],
   "source": [
    "def compute_accuracy(actual, target):\n",
    "    \"\"\"Compute accuracy of guesses comparing to target data.\n",
    "    actual: guesses from the model\n",
    "    target: values from the test/validation set\n",
    "    \"\"\"\n",
    "    if len(actual) != len(target):\n",
    "        return -1 # the number of actual values should match number of target values\n",
    "    correct_count = 0\n",
    "    for actual_value, target_value in zip(actual, target):\n",
    "        if actual_value == target_value:\n",
    "            correct_count += 1\n",
    "    return correct_count/len(actual)"
   ]
  }
 ],
 "metadata": {
  "language_info": {
   "name": "python"
  }
 },
 "nbformat": 4,
 "nbformat_minor": 2
}
